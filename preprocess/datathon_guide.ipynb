{
 "cells": [
  {
   "cell_type": "markdown",
   "metadata": {},
   "source": [
    "### Datathon  competition guideline\n",
    "\n",
    "\n",
    "Focus on creating values. Focus on telling stories. Focus on reasons behind phenomenon, why it is this case. \n",
    "\n",
    "End product should help make actions, make decisions. (interactive app is used to do this)\n",
    "\n",
    "Data and data processing skills are just there to help. Focus on deliverying values and tell a whole logical story. \n",
    "\n",
    "\n",
    "\n",
    "\n",
    "nationalmap.gov.au is very important. \n",
    "\n",
    "\n",
    "\n",
    "\n",
    "\n"
   ]
  },
  {
   "cell_type": "markdown",
   "metadata": {},
   "source": [
    "### steps \n",
    "\n",
    "1. Identification (through color) <br>\n",
    "\n",
    "    Sugacrane is growing in which phase?  <br>\n",
    "    Whether it is newly grown, or full grown, or harvested? <br>\n",
    "    Using machine leanring? Or just NDVI index?  <br>\n",
    "    \n",
    "\n",
    "2. Preprocessing  <br>\n",
    "    Cloud  <br>\n",
    "    \n",
    "    \n",
    "Above is data preprocessing  <br>\n",
    "\n",
    "    \n",
    "3. Prediction  <br>\n",
    "\n",
    "    a) Simpler types of model such as RF, LGBM, Time delay NN with time lags (feature engineering)  <br>\n",
    "    b) LSTM (RNN) <br>\n",
    "\n",
    "\n"
   ]
  },
  {
   "cell_type": "markdown",
   "metadata": {},
   "source": [
    "\n",
    "Steps of doing the data analysis <br> \n",
    "Image data processing <br>\n",
    "Goal of the first mvp: <br>\n",
    "1. identify the phase of sugarcane, according to the color on satellite image (根据颜色，辨别sugarcane 所在的生长周期)\n",
    "2. calculate the output of sugarcane (how) (计算亩产)\n",
    "3. forcast the future sugarcane output (预测亩产)\n",
    "\n",
    "\n"
   ]
  },
  {
   "cell_type": "markdown",
   "metadata": {},
   "source": [
    "\n",
    "\n",
    "temperature and solar radiation look up: \n",
    "http://www.bom.gov.au/climate/data/index.shtml?bookmark=203"
   ]
  },
  {
   "cell_type": "markdown",
   "metadata": {},
   "source": [
    "\n",
    "other things to do for the first mvp:\n",
    "1. coordinate parser (xy coordinates to lat lon coordinate) (done)\n",
    "2. clustering of the sugarcane (using kmeans to classify different sugarcane types/varieties) (done)\n",
    "3. statistics (correlations between sugarcane data and other related data, such as water condition, soil condition) (using tableau)\n",
    "\n",
    "\n"
   ]
  },
  {
   "cell_type": "markdown",
   "metadata": {},
   "source": [
    "\n",
    "\n",
    "Statistics (correlations):\n",
    "A. environment part\n",
    "1. temperature\n",
    "2. climate\n",
    "3. rainfall\n",
    "4. solar radiation\n",
    "\n",
    "B. soil part\n",
    "5. Carbon (C)\n",
    "6. Nitrogen (N)\n",
    "7. pH \n",
    "\n",
    "\n",
    "\n",
    "\n"
   ]
  },
  {
   "cell_type": "markdown",
   "metadata": {},
   "source": [
    "\n",
    "\n",
    "Problem detection and find data to support the problem\n",
    "1. things like, predicting the sugarcane arrival is a big issue \n",
    "2. improve the negotiations and collaboration between parties (growers and millers)\n",
    "\n",
    "\n",
    "Two approaches and directions for this project:\n",
    "1. solve the problem of collaboration between growers and millers, by analysing sugarcane yields\n",
    "(recommending the location where to build a new sugarcane mill)\n",
    "2. improve bank loans to sugarcane farmers, by analysing sugarcane sales, and correlations between sugarcane and other environmental factors\n",
    "\n",
    "\n",
    "\n"
   ]
  },
  {
   "cell_type": "markdown",
   "metadata": {},
   "source": [
    "\n",
    "image data \n",
    "\n",
    "16.12 - 17.12 for T55KFT\n",
    "\n",
    "\n",
    "\n",
    "\n"
   ]
  },
  {
   "cell_type": "markdown",
   "metadata": {},
   "source": [
    "timeseries forecasting methods\n",
    "\n",
    "references: \n",
    "https://machinelearningmastery.com/time-series-forecasting/\n",
    "\n",
    "\n"
   ]
  },
  {
   "cell_type": "markdown",
   "metadata": {},
   "source": [
    "Things to do: <br>\n",
    "\n",
    "Text for the story of the project. Two approches. <br>\n",
    "Finish the timeseries forecasting task, try using CNN. Using symbolic regression or Gaussian process  <br>\n",
    "\n"
   ]
  },
  {
   "attachments": {},
   "cell_type": "markdown",
   "metadata": {},
   "source": [
    "11.17 things to do:  <br>\n",
    "\n",
    "For part one (drought): <br>\n",
    "1. The yield forecast backend api\n",
    "2. Statistics to show (Need to find more data)\n",
    "\n",
    "For part two (yield estimation, estimated tons of sugarcane arrival for millers): <br>\n",
    "Nearly done <br>\n",
    "Need to find yield * area = tons <br>\n",
    "\n",
    "For part three (price transparency): <br>\n",
    "3. The sugar price calculation <br>\n",
    "    a. Weighted sum of different sugarcane types <br>\n",
    "    b. Sugarcane types determined by kmeans <br>\n",
    "    c. Need to know the sugar content (how much weight of sugar contained for each type?) <br>\n",
    "    d. formula for calculating total sale price ? (global sugar price and sugar content weight) <br>\n",
    "\n",
    "\n"
   ]
  },
  {
   "cell_type": "markdown",
   "metadata": {},
   "source": [
    "\n",
    "\n",
    "\n",
    "\n"
   ]
  }
 ],
 "metadata": {
  "kernelspec": {
   "display_name": "Python 3",
   "language": "python",
   "name": "python3"
  },
  "language_info": {
   "codemirror_mode": {
    "name": "ipython",
    "version": 3
   },
   "file_extension": ".py",
   "mimetype": "text/x-python",
   "name": "python",
   "nbconvert_exporter": "python",
   "pygments_lexer": "ipython3",
   "version": "3.7.1"
  }
 },
 "nbformat": 4,
 "nbformat_minor": 2
}
