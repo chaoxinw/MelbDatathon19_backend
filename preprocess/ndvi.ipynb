{
 "cells": [
  {
   "cell_type": "code",
   "execution_count": 101,
   "metadata": {},
   "outputs": [],
   "source": [
    "import pandas as pd\n",
    "import numpy as np\n",
    "from tqdm.auto import tqdm\n",
    "\n",
    "\n",
    "from PIL import Image, ImageDraw\n",
    "import glob\n",
    "import os\n",
    "import matplotlib.pyplot as plt\n",
    "import math \n",
    "\n",
    "\n",
    "import scipy.misc as smp\n",
    "\n",
    "import json\n",
    "from datetime import datetime\n",
    "\n",
    "from operator import add\n",
    "import re\n",
    "\n",
    "from scipy.optimize import curve_fit\n",
    "from scipy.integrate import quad\n"
   ]
  },
  {
   "cell_type": "code",
   "execution_count": 2,
   "metadata": {},
   "outputs": [
    {
     "name": "stdout",
     "output_type": "stream",
     "text": [
      "./tiles/tile-x7620-y7600.png\n",
      "./geometries/geo-x7620-y7600.geojson\n",
      "./mask/mask-x7620-y7600.png\n"
     ]
    }
   ],
   "source": [
    "# include functions \n",
    "%run phase02-mask-generation/SugarUtils.py"
   ]
  },
  {
   "cell_type": "code",
   "execution_count": 3,
   "metadata": {},
   "outputs": [],
   "source": [
    "mask_files = f\"./Phase02-DataDelivery/masks/*.png\"\n",
    "mask_images = glob.glob(mask_files)\n",
    "\n",
    "# get all the x, y positions of tiles from masks file name\n",
    "xy_pair = []\n",
    "for mask_img in mask_images:\n",
    "    mask_list = re.findall(r'\\d+', mask_img)\n",
    "    xy_pair.append( (mask_list[1],mask_list[2]) )"
   ]
  },
  {
   "cell_type": "code",
   "execution_count": 59,
   "metadata": {
    "scrolled": true
   },
   "outputs": [
    {
     "data": {
      "text/plain": [
       "[('6144', '5120'),\n",
       " ('6144', '7680'),\n",
       " ('5632', '7168'),\n",
       " ('4608', '6144'),\n",
       " ('6656', '6144'),\n",
       " ('6656', '8192'),\n",
       " ('5632', '8704'),\n",
       " ('7168', '10240'),\n",
       " ('5120', '6656'),\n",
       " ('2048', '1024'),\n",
       " ('7680', '9728'),\n",
       " ('5120', '4096'),\n",
       " ('1536', '1536'),\n",
       " ('6656', '9728'),\n",
       " ('7168', '5120'),\n",
       " ('6656', '4608'),\n",
       " ('5632', '5632'),\n",
       " ('4608', '4608'),\n",
       " ('6656', '9216'),\n",
       " ('6144', '8704'),\n",
       " ('6656', '6656'),\n",
       " ('6656', '4096'),\n",
       " ('6656', '10240'),\n",
       " ('6144', '5632'),\n",
       " ('7168', '7168'),\n",
       " ('5120', '4608'),\n",
       " ('6144', '7168'),\n",
       " ('7168', '5632'),\n",
       " ('5632', '5120'),\n",
       " ('2048', '1536'),\n",
       " ('8704', '10240'),\n",
       " ('5632', '7680'),\n",
       " ('5120', '6144'),\n",
       " ('1536', '1024'),\n",
       " ('4608', '5632'),\n",
       " ('5632', '4608'),\n",
       " ('8192', '10240'),\n",
       " ('6656', '5632'),\n",
       " ('6144', '6656'),\n",
       " ('6144', '4096'),\n",
       " ('5632', '8192'),\n",
       " ('6656', '8704'),\n",
       " ('7680', '5632'),\n",
       " ('6144', '9216'),\n",
       " ('7168', '6656'),\n",
       " ('7168', '4096'),\n",
       " ('5632', '6144'),\n",
       " ('5120', '3584'),\n",
       " ('5120', '5120'),\n",
       " ('6656', '7168'),\n",
       " ('6144', '6144'),\n",
       " ('7680', '5120'),\n",
       " ('4608', '5120'),\n",
       " ('5120', '7168'),\n",
       " ('6656', '7680'),\n",
       " ('7168', '9728'),\n",
       " ('6656', '5120'),\n",
       " ('7168', '4608'),\n",
       " ('5120', '5632'),\n",
       " ('7680', '10240'),\n",
       " ('6144', '4608'),\n",
       " ('6144', '9728'),\n",
       " ('5632', '6656'),\n",
       " ('5632', '4096'),\n",
       " ('6144', '8192')]"
      ]
     },
     "execution_count": 59,
     "metadata": {},
     "output_type": "execute_result"
    }
   ],
   "source": [
    "xy_pair\n",
    "# len(xy_pair)"
   ]
  },
  {
   "cell_type": "code",
   "execution_count": 58,
   "metadata": {},
   "outputs": [
    {
     "name": "stdout",
     "output_type": "stream",
     "text": [
      "6144   5120\n",
      "(512, 512)\n"
     ]
    }
   ],
   "source": [
    "# E.g. get mask png data\n",
    "tile_x, tile_y = xy_pair[0][0], xy_pair[0][1]\n",
    "print( tile_x, \" \", tile_y )\n",
    "mask_file_path = f\"./Phase02-DataDelivery/masks/mask-x{tile_x}-y{tile_y}.png\"\n",
    "img = Image.open(mask_file_path)\n",
    "pixels = img.load()\n",
    "\n",
    "print(img.size)\n",
    "\n",
    "\n",
    "# why is alpha 255?  alpha range from 0 to 255 (also range from 0 to 1)\n",
    "# 0 being completely transparent, 255 being completely opaque\n",
    "# (0,0,0,255) means black\n",
    "\n",
    "def get_mask_list(pixels):\n",
    "    mask_list = []\n",
    "\n",
    "    for x in range(0,512):\n",
    "        for y in range(0,512):\n",
    "            if pixels[y,x] == (0,0,0,255):\n",
    "                mask_list.append((y,x))\n",
    "    return mask_list\n",
    "\n"
   ]
  },
  {
   "cell_type": "code",
   "execution_count": 5,
   "metadata": {},
   "outputs": [],
   "source": [
    "def get_timeseries_image_paths(tile_x, tile_y, band):\n",
    "    path = f\"./Phase02-DataDelivery/sugarcanetiles/{tile_x}-{tile_y}-{band}*.png\"\n",
    "    images = glob.glob(path)\n",
    "    return images"
   ]
  },
  {
   "cell_type": "code",
   "execution_count": 8,
   "metadata": {},
   "outputs": [],
   "source": [
    "tile_x = xy_pair[0][0]\n",
    "tile_y = xy_pair[0][1]\n",
    "# band_img = get_timeseries_image_paths(tile_x, tile_y, \"TCI\") \n",
    "band_img_RED = get_timeseries_image_paths(tile_x, tile_y, \"B04\")   # B04 is red\n",
    "# band_img_NIR = get_timeseries_image_paths(tile_x, tile_y, \"B08\")   # B08 is NIR"
   ]
  },
  {
   "cell_type": "code",
   "execution_count": 9,
   "metadata": {},
   "outputs": [],
   "source": [
    "# need to sort the band_img list\n",
    "# sort the image path according to timeseries\n",
    "\n",
    "def get_image_path_dict(band_img):\n",
    "    image_path_dict = {}\n",
    "    for bi in band_img:\n",
    "        timestr = bi[-14:][:10]\n",
    "        t = datetime.strptime(timestr, '%Y-%m-%d')\n",
    "        image_path_dict[t] = bi\n",
    "    return image_path_dict"
   ]
  },
  {
   "cell_type": "code",
   "execution_count": 10,
   "metadata": {},
   "outputs": [],
   "source": [
    "# get time series for TCI\n",
    "timeseries_list = []\n",
    "for bi in band_img_RED:\n",
    "    timestr = bi[52:62]\n",
    "    timeseries_list.append(timestr)\n",
    "\n",
    "# sorted timeseries_list\n",
    "timeseries_list.sort(key = lambda date: datetime.strptime(date, '%Y-%m-%d'))"
   ]
  },
  {
   "cell_type": "code",
   "execution_count": 12,
   "metadata": {},
   "outputs": [],
   "source": [
    "# timeseries_list     # sorted"
   ]
  },
  {
   "cell_type": "code",
   "execution_count": 14,
   "metadata": {},
   "outputs": [],
   "source": [
    "# store sugacrane pixel to tci_list\n",
    "def get_sugarcrane_region_from_tci(mask_list, band_pixels):\n",
    "    tci_list = []\n",
    "\n",
    "    for mask_ind in mask_list:\n",
    "        y = mask_ind[0]\n",
    "        x = mask_ind[1]\n",
    "\n",
    "        tci_list.append(band_pixels[y,x])\n",
    "    return tci_list\n",
    "\n"
   ]
  },
  {
   "cell_type": "code",
   "execution_count": 15,
   "metadata": {},
   "outputs": [],
   "source": [
    "# store sugacrane pixel to list, then store all the images to dict, \n",
    "# key is timestamp, value is list\n",
    "\n",
    "def get_tci_dict(image_path_dict, mask_list):\n",
    "    tci_dict = {}\n",
    "    cnt = 0\n",
    "    for elem in sorted(image_path_dict.keys()):\n",
    "    #     mask_list = \n",
    "\n",
    "        path = image_path_dict[elem]\n",
    "        img = Image.open(path)\n",
    "        band_pixels = img.load()\n",
    "\n",
    "        tci_list = get_sugarcrane_region_from_tci(mask_list, band_pixels)\n",
    "        tci_dict[cnt] = tci_list\n",
    "        cnt += 1\n",
    "    return tci_dict\n",
    "    "
   ]
  },
  {
   "cell_type": "code",
   "execution_count": 28,
   "metadata": {},
   "outputs": [],
   "source": [
    "# the first xy pair \n",
    "tile_x, tile_y = xy_pair[0][0], xy_pair[0][1]\n",
    "mask_file_path = f\"./Phase02-DataDelivery/masks/mask-x{tile_x}-y{tile_y}.png\"\n",
    "img = Image.open(mask_file_path)\n",
    "pixels = img.load()\n",
    "\n",
    "mask_list = get_mask_list(pixels)\n",
    "band_img_RED = get_timeseries_image_paths(tile_x, tile_y, \"B04\")\n",
    "image_path_dict_RED = get_image_path_dict(band_img_RED)\n",
    "red_dict = get_tci_dict(image_path_dict_RED, mask_list)\n",
    "\n",
    "band_img_NIR = get_timeseries_image_paths(tile_x, tile_y, \"B08\")\n",
    "image_path_dict_NIR = get_image_path_dict(band_img_NIR)\n",
    "nir_dict = get_tci_dict(image_path_dict_NIR, mask_list)"
   ]
  },
  {
   "cell_type": "code",
   "execution_count": 47,
   "metadata": {},
   "outputs": [
    {
     "data": {
      "text/plain": [
       "175950"
      ]
     },
     "execution_count": 47,
     "metadata": {},
     "output_type": "execute_result"
    }
   ],
   "source": [
    "# len(tci_dict)    # 71 days\n",
    "len(red_dict[10])        # values in only sugarcane regions 175950 pixels, for a particular tile"
   ]
  },
  {
   "cell_type": "code",
   "execution_count": 26,
   "metadata": {},
   "outputs": [],
   "source": [
    "# Kumar-Monteith Model\n",
    "# need to get NDVI curve first \n",
    "\n"
   ]
  },
  {
   "cell_type": "code",
   "execution_count": 43,
   "metadata": {},
   "outputs": [
    {
     "data": {
      "text/plain": [
       "'2018-10-03'"
      ]
     },
     "execution_count": 43,
     "metadata": {},
     "output_type": "execute_result"
    }
   ],
   "source": [
    "# NDVI curve\n",
    "\n",
    "# get only 2017.09.28 to 2018.10.03\n",
    "# timeseries_list[21]    # 2017.09.28\n",
    "# timeseries_list[49]    # 2018.10.03\n",
    "\n",
    "# print( nir_dict[1][:10] )\n",
    "# print( red_dict[1][:10] )\n",
    "arr1 = np.array(nir_dict[1][:10])\n",
    "arr2 = np.array(red_dict[1][:10])\n",
    "print( np.divide( np.subtract(arr1, arr2), np.add(arr1, arr2) ) )\n",
    "\n",
    "\n"
   ]
  },
  {
   "cell_type": "code",
   "execution_count": 50,
   "metadata": {},
   "outputs": [
    {
     "name": "stdout",
     "output_type": "stream",
     "text": [
      "[0.20488480265717954, 0.1859512751839128, 0.3507618056878361, 0.4118606538609533, 0.3215783817010941, 0.4936062061635348, 0.5316695393994335, 0.517958678893894, 0.5404314241957242, 0.25676093085546964, 0.22180487666968762, 0.0709691999451856, 0.4915880209564313, 0.47753091550138105, 0.6619861374050291, 0.12423731637388076, 0.14898473119989342, 0.585373576017535, 0.5527928135372291, 0.34659179338515506, 0.49887347004497257, 0.5046130808416717, 0.4284505914447084, 0.33428148478302044, 0.25291611485772375, 0.27929430185719617, 0.29695278545174536, 0.2186175025162925, 0.24319189007663802]\n"
     ]
    }
   ],
   "source": [
    "# for a particular tile\n",
    "ndvi_for_tile = []\n",
    "for day in list(range(21,50)):\n",
    "    nir_arr = np.array( nir_dict[day] )\n",
    "    red_arr = np.array( red_dict[day] )\n",
    "    \n",
    "    ndvi_array = np.divide( np.subtract(nir_arr, red_arr), np.add(nir_arr, red_arr) )\n",
    "    \n",
    "    # print( ndvi_array.mean() )\n",
    "    appr_ndvi = ndvi_array.mean()\n",
    "    ndvi_for_tile.append( appr_ndvi )\n",
    "    \n",
    "print( ndvi_for_tile )   "
   ]
  },
  {
   "cell_type": "code",
   "execution_count": 57,
   "metadata": {},
   "outputs": [
    {
     "data": {
      "text/plain": [
       "'2018-05-06'"
      ]
     },
     "execution_count": 57,
     "metadata": {},
     "output_type": "execute_result"
    }
   ],
   "source": [
    "ndvi_for_tile[15]\n",
    "timeseries_list[21+15]"
   ]
  },
  {
   "cell_type": "code",
   "execution_count": 52,
   "metadata": {
    "scrolled": false
   },
   "outputs": [
    {
     "data": {
      "image/png": "[encoded data removed]",
      "text/plain": [
       "<Figure size 1440x720 with 1 Axes>"
      ]
     },
     "metadata": {
      "needs_background": "light"
     },
     "output_type": "display_data"
    }
   ],
   "source": [
    "plt.figure(figsize=(20,10))\n",
    "x = list(range(0, (50-21)))\n",
    "plt.plot(x,ndvi_for_tile)\n",
    "plt.show()\n",
    "\n",
    "# the cloud definitely has huge effect \n",
    "# this is for tile x6144-y5120"
   ]
  },
  {
   "cell_type": "code",
   "execution_count": 63,
   "metadata": {},
   "outputs": [
    {
     "data": {
      "text/html": [
       "<div>\n",
       "<style scoped>\n",
       "    .dataframe tbody tr th:only-of-type {\n",
       "        vertical-align: middle;\n",
       "    }\n",
       "\n",
       "    .dataframe tbody tr th {\n",
       "        vertical-align: top;\n",
       "    }\n",
       "\n",
       "    .dataframe thead th {\n",
       "        text-align: right;\n",
       "    }\n",
       "</style>\n",
       "<table border=\"1\" class=\"dataframe\">\n",
       "  <thead>\n",
       "    <tr style=\"text-align: right;\">\n",
       "      <th></th>\n",
       "      <th>x6144-y5120</th>\n",
       "      <th>x6144-y7680</th>\n",
       "      <th>x5632-y7168</th>\n",
       "      <th>x4608-y6144</th>\n",
       "      <th>x6656-y6144</th>\n",
       "      <th>x6656-y8192</th>\n",
       "      <th>x5632-y8704</th>\n",
       "      <th>x7168-y10240</th>\n",
       "      <th>x5120-y6656</th>\n",
       "      <th>x2048-y1024</th>\n",
       "      <th>...</th>\n",
       "      <th>x7168-y9728</th>\n",
       "      <th>x6656-y5120</th>\n",
       "      <th>x7168-y4608</th>\n",
       "      <th>x5120-y5632</th>\n",
       "      <th>x7680-y10240</th>\n",
       "      <th>x6144-y4608</th>\n",
       "      <th>x6144-y9728</th>\n",
       "      <th>x5632-y6656</th>\n",
       "      <th>x5632-y4096</th>\n",
       "      <th>x6144-y8192</th>\n",
       "    </tr>\n",
       "  </thead>\n",
       "  <tbody>\n",
       "    <tr>\n",
       "      <th>0</th>\n",
       "      <td>91481</td>\n",
       "      <td>45694</td>\n",
       "      <td>11562</td>\n",
       "      <td>354</td>\n",
       "      <td>2385</td>\n",
       "      <td>26562</td>\n",
       "      <td>8044</td>\n",
       "      <td>76488</td>\n",
       "      <td>14695</td>\n",
       "      <td>403</td>\n",
       "      <td>...</td>\n",
       "      <td>18691</td>\n",
       "      <td>63052</td>\n",
       "      <td>11227</td>\n",
       "      <td>83317</td>\n",
       "      <td>126421</td>\n",
       "      <td>65351</td>\n",
       "      <td>274</td>\n",
       "      <td>1628</td>\n",
       "      <td>23139</td>\n",
       "      <td>33606</td>\n",
       "    </tr>\n",
       "    <tr>\n",
       "      <th>1</th>\n",
       "      <td>108012</td>\n",
       "      <td>43616</td>\n",
       "      <td>11467</td>\n",
       "      <td>421</td>\n",
       "      <td>1771</td>\n",
       "      <td>33040</td>\n",
       "      <td>13687</td>\n",
       "      <td>91449</td>\n",
       "      <td>13490</td>\n",
       "      <td>400</td>\n",
       "      <td>...</td>\n",
       "      <td>24951</td>\n",
       "      <td>80812</td>\n",
       "      <td>9367</td>\n",
       "      <td>84475</td>\n",
       "      <td>136551</td>\n",
       "      <td>66444</td>\n",
       "      <td>1311</td>\n",
       "      <td>867</td>\n",
       "      <td>24150</td>\n",
       "      <td>31842</td>\n",
       "    </tr>\n",
       "    <tr>\n",
       "      <th>2</th>\n",
       "      <td>133676</td>\n",
       "      <td>55458</td>\n",
       "      <td>15350</td>\n",
       "      <td>507</td>\n",
       "      <td>2152</td>\n",
       "      <td>41573</td>\n",
       "      <td>15207</td>\n",
       "      <td>89387</td>\n",
       "      <td>31188</td>\n",
       "      <td>435</td>\n",
       "      <td>...</td>\n",
       "      <td>25500</td>\n",
       "      <td>78800</td>\n",
       "      <td>10889</td>\n",
       "      <td>132185</td>\n",
       "      <td>133200</td>\n",
       "      <td>75303</td>\n",
       "      <td>1923</td>\n",
       "      <td>1961</td>\n",
       "      <td>33101</td>\n",
       "      <td>45448</td>\n",
       "    </tr>\n",
       "    <tr>\n",
       "      <th>3</th>\n",
       "      <td>154892</td>\n",
       "      <td>60923</td>\n",
       "      <td>19151</td>\n",
       "      <td>907</td>\n",
       "      <td>3050</td>\n",
       "      <td>46997</td>\n",
       "      <td>14516</td>\n",
       "      <td>97686</td>\n",
       "      <td>34779</td>\n",
       "      <td>705</td>\n",
       "      <td>...</td>\n",
       "      <td>23281</td>\n",
       "      <td>112460</td>\n",
       "      <td>9661</td>\n",
       "      <td>144192</td>\n",
       "      <td>156598</td>\n",
       "      <td>82406</td>\n",
       "      <td>1583</td>\n",
       "      <td>1911</td>\n",
       "      <td>32881</td>\n",
       "      <td>45411</td>\n",
       "    </tr>\n",
       "    <tr>\n",
       "      <th>4</th>\n",
       "      <td>156853</td>\n",
       "      <td>74290</td>\n",
       "      <td>19553</td>\n",
       "      <td>1012</td>\n",
       "      <td>2859</td>\n",
       "      <td>56434</td>\n",
       "      <td>18074</td>\n",
       "      <td>101605</td>\n",
       "      <td>34581</td>\n",
       "      <td>680</td>\n",
       "      <td>...</td>\n",
       "      <td>28694</td>\n",
       "      <td>99304</td>\n",
       "      <td>14485</td>\n",
       "      <td>141616</td>\n",
       "      <td>161063</td>\n",
       "      <td>90527</td>\n",
       "      <td>1880</td>\n",
       "      <td>2061</td>\n",
       "      <td>34145</td>\n",
       "      <td>52453</td>\n",
       "    </tr>\n",
       "    <tr>\n",
       "      <th>5</th>\n",
       "      <td>154195</td>\n",
       "      <td>69902</td>\n",
       "      <td>19094</td>\n",
       "      <td>1049</td>\n",
       "      <td>2700</td>\n",
       "      <td>56479</td>\n",
       "      <td>18972</td>\n",
       "      <td>89196</td>\n",
       "      <td>32281</td>\n",
       "      <td>424</td>\n",
       "      <td>...</td>\n",
       "      <td>24063</td>\n",
       "      <td>96185</td>\n",
       "      <td>14266</td>\n",
       "      <td>141615</td>\n",
       "      <td>148648</td>\n",
       "      <td>87152</td>\n",
       "      <td>1904</td>\n",
       "      <td>1985</td>\n",
       "      <td>34279</td>\n",
       "      <td>49947</td>\n",
       "    </tr>\n",
       "    <tr>\n",
       "      <th>6</th>\n",
       "      <td>149408</td>\n",
       "      <td>67620</td>\n",
       "      <td>18629</td>\n",
       "      <td>726</td>\n",
       "      <td>2726</td>\n",
       "      <td>54295</td>\n",
       "      <td>18419</td>\n",
       "      <td>92974</td>\n",
       "      <td>33903</td>\n",
       "      <td>522</td>\n",
       "      <td>...</td>\n",
       "      <td>25021</td>\n",
       "      <td>112241</td>\n",
       "      <td>14174</td>\n",
       "      <td>141332</td>\n",
       "      <td>152254</td>\n",
       "      <td>89644</td>\n",
       "      <td>1704</td>\n",
       "      <td>2329</td>\n",
       "      <td>33505</td>\n",
       "      <td>46114</td>\n",
       "    </tr>\n",
       "    <tr>\n",
       "      <th>7</th>\n",
       "      <td>137710</td>\n",
       "      <td>68810</td>\n",
       "      <td>18891</td>\n",
       "      <td>677</td>\n",
       "      <td>2892</td>\n",
       "      <td>55860</td>\n",
       "      <td>19297</td>\n",
       "      <td>104724</td>\n",
       "      <td>34165</td>\n",
       "      <td>424</td>\n",
       "      <td>...</td>\n",
       "      <td>29157</td>\n",
       "      <td>104343</td>\n",
       "      <td>14365</td>\n",
       "      <td>142514</td>\n",
       "      <td>160118</td>\n",
       "      <td>90100</td>\n",
       "      <td>1930</td>\n",
       "      <td>2313</td>\n",
       "      <td>33419</td>\n",
       "      <td>51015</td>\n",
       "    </tr>\n",
       "    <tr>\n",
       "      <th>8</th>\n",
       "      <td>141324</td>\n",
       "      <td>68671</td>\n",
       "      <td>18828</td>\n",
       "      <td>692</td>\n",
       "      <td>3004</td>\n",
       "      <td>54952</td>\n",
       "      <td>19247</td>\n",
       "      <td>103911</td>\n",
       "      <td>33485</td>\n",
       "      <td>410</td>\n",
       "      <td>...</td>\n",
       "      <td>28994</td>\n",
       "      <td>106202</td>\n",
       "      <td>14036</td>\n",
       "      <td>142431</td>\n",
       "      <td>160406</td>\n",
       "      <td>89348</td>\n",
       "      <td>1930</td>\n",
       "      <td>2297</td>\n",
       "      <td>32648</td>\n",
       "      <td>50675</td>\n",
       "    </tr>\n",
       "    <tr>\n",
       "      <th>9</th>\n",
       "      <td>125059</td>\n",
       "      <td>68519</td>\n",
       "      <td>18828</td>\n",
       "      <td>442</td>\n",
       "      <td>3004</td>\n",
       "      <td>53079</td>\n",
       "      <td>11553</td>\n",
       "      <td>103899</td>\n",
       "      <td>25899</td>\n",
       "      <td>161</td>\n",
       "      <td>...</td>\n",
       "      <td>28994</td>\n",
       "      <td>82289</td>\n",
       "      <td>9744</td>\n",
       "      <td>125121</td>\n",
       "      <td>158971</td>\n",
       "      <td>76863</td>\n",
       "      <td>1751</td>\n",
       "      <td>2297</td>\n",
       "      <td>28071</td>\n",
       "      <td>43601</td>\n",
       "    </tr>\n",
       "  </tbody>\n",
       "</table>\n",
       "<p>10 rows × 65 columns</p>\n",
       "</div>"
      ],
      "text/plain": [
       "   x6144-y5120  x6144-y7680  x5632-y7168  x4608-y6144  x6656-y6144  \\\n",
       "0        91481        45694        11562          354         2385   \n",
       "1       108012        43616        11467          421         1771   \n",
       "2       133676        55458        15350          507         2152   \n",
       "3       154892        60923        19151          907         3050   \n",
       "4       156853        74290        19553         1012         2859   \n",
       "5       154195        69902        19094         1049         2700   \n",
       "6       149408        67620        18629          726         2726   \n",
       "7       137710        68810        18891          677         2892   \n",
       "8       141324        68671        18828          692         3004   \n",
       "9       125059        68519        18828          442         3004   \n",
       "\n",
       "   x6656-y8192  x5632-y8704  x7168-y10240  x5120-y6656  x2048-y1024  \\\n",
       "0        26562         8044         76488        14695          403   \n",
       "1        33040        13687         91449        13490          400   \n",
       "2        41573        15207         89387        31188          435   \n",
       "3        46997        14516         97686        34779          705   \n",
       "4        56434        18074        101605        34581          680   \n",
       "5        56479        18972         89196        32281          424   \n",
       "6        54295        18419         92974        33903          522   \n",
       "7        55860        19297        104724        34165          424   \n",
       "8        54952        19247        103911        33485          410   \n",
       "9        53079        11553        103899        25899          161   \n",
       "\n",
       "      ...       x7168-y9728  x6656-y5120  x7168-y4608  x5120-y5632  \\\n",
       "0     ...             18691        63052        11227        83317   \n",
       "1     ...             24951        80812         9367        84475   \n",
       "2     ...             25500        78800        10889       132185   \n",
       "3     ...             23281       112460         9661       144192   \n",
       "4     ...             28694        99304        14485       141616   \n",
       "5     ...             24063        96185        14266       141615   \n",
       "6     ...             25021       112241        14174       141332   \n",
       "7     ...             29157       104343        14365       142514   \n",
       "8     ...             28994       106202        14036       142431   \n",
       "9     ...             28994        82289         9744       125121   \n",
       "\n",
       "   x7680-y10240  x6144-y4608  x6144-y9728  x5632-y6656  x5632-y4096  \\\n",
       "0        126421        65351          274         1628        23139   \n",
       "1        136551        66444         1311          867        24150   \n",
       "2        133200        75303         1923         1961        33101   \n",
       "3        156598        82406         1583         1911        32881   \n",
       "4        161063        90527         1880         2061        34145   \n",
       "5        148648        87152         1904         1985        34279   \n",
       "6        152254        89644         1704         2329        33505   \n",
       "7        160118        90100         1930         2313        33419   \n",
       "8        160406        89348         1930         2297        32648   \n",
       "9        158971        76863         1751         2297        28071   \n",
       "\n",
       "   x6144-y8192  \n",
       "0        33606  \n",
       "1        31842  \n",
       "2        45448  \n",
       "3        45411  \n",
       "4        52453  \n",
       "5        49947  \n",
       "6        46114  \n",
       "7        51015  \n",
       "8        50675  \n",
       "9        43601  \n",
       "\n",
       "[10 rows x 65 columns]"
      ]
     },
     "execution_count": 63,
     "metadata": {},
     "output_type": "execute_result"
    }
   ],
   "source": [
    "# try colour method for now \n",
    "\n",
    "\n",
    "with open(\"tile_xy_dict.json\",'r') as fp:\n",
    "    tile_xy_dict = json.load(fp)\n",
    "\n",
    "greensum_df = pd.DataFrame.from_dict(tile_xy_dict)\n",
    "greensum_df.head(10)"
   ]
  },
  {
   "cell_type": "code",
   "execution_count": 179,
   "metadata": {},
   "outputs": [
    {
     "data": {
      "text/html": [
       "<div>\n",
       "<style scoped>\n",
       "    .dataframe tbody tr th:only-of-type {\n",
       "        vertical-align: middle;\n",
       "    }\n",
       "\n",
       "    .dataframe tbody tr th {\n",
       "        vertical-align: top;\n",
       "    }\n",
       "\n",
       "    .dataframe thead th {\n",
       "        text-align: right;\n",
       "    }\n",
       "</style>\n",
       "<table border=\"1\" class=\"dataframe\">\n",
       "  <thead>\n",
       "    <tr style=\"text-align: right;\">\n",
       "      <th></th>\n",
       "      <th>x6144-y5120</th>\n",
       "      <th>x6144-y7680</th>\n",
       "      <th>x5632-y7168</th>\n",
       "      <th>x4608-y6144</th>\n",
       "      <th>x6656-y6144</th>\n",
       "      <th>x6656-y8192</th>\n",
       "      <th>x5632-y8704</th>\n",
       "      <th>x7168-y10240</th>\n",
       "      <th>x5120-y6656</th>\n",
       "      <th>x2048-y1024</th>\n",
       "      <th>...</th>\n",
       "      <th>x6656-y5120</th>\n",
       "      <th>x7168-y4608</th>\n",
       "      <th>x5120-y5632</th>\n",
       "      <th>x7680-y10240</th>\n",
       "      <th>x6144-y4608</th>\n",
       "      <th>x6144-y9728</th>\n",
       "      <th>x5632-y6656</th>\n",
       "      <th>x5632-y4096</th>\n",
       "      <th>x6144-y8192</th>\n",
       "      <th>time</th>\n",
       "    </tr>\n",
       "  </thead>\n",
       "  <tbody>\n",
       "    <tr>\n",
       "      <th>0</th>\n",
       "      <td>91481</td>\n",
       "      <td>45694</td>\n",
       "      <td>11562</td>\n",
       "      <td>354</td>\n",
       "      <td>2385</td>\n",
       "      <td>26562</td>\n",
       "      <td>8044</td>\n",
       "      <td>76488</td>\n",
       "      <td>14695</td>\n",
       "      <td>403</td>\n",
       "      <td>...</td>\n",
       "      <td>63052</td>\n",
       "      <td>11227</td>\n",
       "      <td>83317</td>\n",
       "      <td>126421</td>\n",
       "      <td>65351</td>\n",
       "      <td>274</td>\n",
       "      <td>1628</td>\n",
       "      <td>23139</td>\n",
       "      <td>33606</td>\n",
       "      <td>2016-12-22</td>\n",
       "    </tr>\n",
       "    <tr>\n",
       "      <th>1</th>\n",
       "      <td>108012</td>\n",
       "      <td>43616</td>\n",
       "      <td>11467</td>\n",
       "      <td>421</td>\n",
       "      <td>1771</td>\n",
       "      <td>33040</td>\n",
       "      <td>13687</td>\n",
       "      <td>91449</td>\n",
       "      <td>13490</td>\n",
       "      <td>400</td>\n",
       "      <td>...</td>\n",
       "      <td>80812</td>\n",
       "      <td>9367</td>\n",
       "      <td>84475</td>\n",
       "      <td>136551</td>\n",
       "      <td>66444</td>\n",
       "      <td>1311</td>\n",
       "      <td>867</td>\n",
       "      <td>24150</td>\n",
       "      <td>31842</td>\n",
       "      <td>2017-01-01</td>\n",
       "    </tr>\n",
       "    <tr>\n",
       "      <th>2</th>\n",
       "      <td>133676</td>\n",
       "      <td>55458</td>\n",
       "      <td>15350</td>\n",
       "      <td>507</td>\n",
       "      <td>2152</td>\n",
       "      <td>41573</td>\n",
       "      <td>15207</td>\n",
       "      <td>89387</td>\n",
       "      <td>31188</td>\n",
       "      <td>435</td>\n",
       "      <td>...</td>\n",
       "      <td>78800</td>\n",
       "      <td>10889</td>\n",
       "      <td>132185</td>\n",
       "      <td>133200</td>\n",
       "      <td>75303</td>\n",
       "      <td>1923</td>\n",
       "      <td>1961</td>\n",
       "      <td>33101</td>\n",
       "      <td>45448</td>\n",
       "      <td>2017-01-11</td>\n",
       "    </tr>\n",
       "    <tr>\n",
       "      <th>3</th>\n",
       "      <td>154892</td>\n",
       "      <td>60923</td>\n",
       "      <td>19151</td>\n",
       "      <td>907</td>\n",
       "      <td>3050</td>\n",
       "      <td>46997</td>\n",
       "      <td>14516</td>\n",
       "      <td>97686</td>\n",
       "      <td>34779</td>\n",
       "      <td>705</td>\n",
       "      <td>...</td>\n",
       "      <td>112460</td>\n",
       "      <td>9661</td>\n",
       "      <td>144192</td>\n",
       "      <td>156598</td>\n",
       "      <td>82406</td>\n",
       "      <td>1583</td>\n",
       "      <td>1911</td>\n",
       "      <td>32881</td>\n",
       "      <td>45411</td>\n",
       "      <td>2017-02-10</td>\n",
       "    </tr>\n",
       "    <tr>\n",
       "      <th>4</th>\n",
       "      <td>156853</td>\n",
       "      <td>74290</td>\n",
       "      <td>19553</td>\n",
       "      <td>1012</td>\n",
       "      <td>2859</td>\n",
       "      <td>56434</td>\n",
       "      <td>18074</td>\n",
       "      <td>101605</td>\n",
       "      <td>34581</td>\n",
       "      <td>680</td>\n",
       "      <td>...</td>\n",
       "      <td>99304</td>\n",
       "      <td>14485</td>\n",
       "      <td>141616</td>\n",
       "      <td>161063</td>\n",
       "      <td>90527</td>\n",
       "      <td>1880</td>\n",
       "      <td>2061</td>\n",
       "      <td>34145</td>\n",
       "      <td>52453</td>\n",
       "      <td>2017-02-20</td>\n",
       "    </tr>\n",
       "  </tbody>\n",
       "</table>\n",
       "<p>5 rows × 66 columns</p>\n",
       "</div>"
      ],
      "text/plain": [
       "   x6144-y5120  x6144-y7680  x5632-y7168  x4608-y6144  x6656-y6144  \\\n",
       "0        91481        45694        11562          354         2385   \n",
       "1       108012        43616        11467          421         1771   \n",
       "2       133676        55458        15350          507         2152   \n",
       "3       154892        60923        19151          907         3050   \n",
       "4       156853        74290        19553         1012         2859   \n",
       "\n",
       "   x6656-y8192  x5632-y8704  x7168-y10240  x5120-y6656  x2048-y1024  \\\n",
       "0        26562         8044         76488        14695          403   \n",
       "1        33040        13687         91449        13490          400   \n",
       "2        41573        15207         89387        31188          435   \n",
       "3        46997        14516         97686        34779          705   \n",
       "4        56434        18074        101605        34581          680   \n",
       "\n",
       "      ...      x6656-y5120  x7168-y4608  x5120-y5632  x7680-y10240  \\\n",
       "0     ...            63052        11227        83317        126421   \n",
       "1     ...            80812         9367        84475        136551   \n",
       "2     ...            78800        10889       132185        133200   \n",
       "3     ...           112460         9661       144192        156598   \n",
       "4     ...            99304        14485       141616        161063   \n",
       "\n",
       "   x6144-y4608  x6144-y9728  x5632-y6656  x5632-y4096  x6144-y8192        time  \n",
       "0        65351          274         1628        23139        33606  2016-12-22  \n",
       "1        66444         1311          867        24150        31842  2017-01-01  \n",
       "2        75303         1923         1961        33101        45448  2017-01-11  \n",
       "3        82406         1583         1911        32881        45411  2017-02-10  \n",
       "4        90527         1880         2061        34145        52453  2017-02-20  \n",
       "\n",
       "[5 rows x 66 columns]"
      ]
     },
     "execution_count": 179,
     "metadata": {},
     "output_type": "execute_result"
    }
   ],
   "source": [
    "greensum_df[\"time\"] = timeseries_list\n",
    "greensum_df.head()"
   ]
  },
  {
   "cell_type": "code",
   "execution_count": 180,
   "metadata": {},
   "outputs": [],
   "source": [
    "# greensum_df.to_csv(\"tile_xy_dict.csv\", index=False)"
   ]
  },
  {
   "cell_type": "code",
   "execution_count": 186,
   "metadata": {},
   "outputs": [
    {
     "data": {
      "text/plain": [
       "array([ 91481, 108012, 133676, 154892, 156853, 154195, 149408, 137710,\n",
       "       141324, 125059, 151495, 115908,  88305, 145008, 105942, 129939,\n",
       "        90791, 109685,  93212,  62873,  43482,  21545,  21556,  75558,\n",
       "        95775, 102436, 140352, 150189, 146198, 148261, 132875, 129331,\n",
       "       129019, 153518, 161656, 165040, 119835,  98349, 149234, 146697,\n",
       "        91179, 125348, 123474, 109569,  84784,  41652,  49813,  41802,\n",
       "        30619,  25344,  17636,  30970,  65216,  74947,  66710,  66710,\n",
       "       121538, 160044, 147624, 151224, 152408, 149204, 135822, 160627,\n",
       "       160312, 108894, 158092, 153165, 146580, 129222, 141792])"
      ]
     },
     "execution_count": 186,
     "metadata": {},
     "output_type": "execute_result"
    }
   ],
   "source": [
    "# greensum_df.drop([\"time\"], axis=1).columns.tolist()\n",
    "greensum_df['x6144-y5120'].values"
   ]
  },
  {
   "cell_type": "code",
   "execution_count": 65,
   "metadata": {},
   "outputs": [],
   "source": [
    "season1718_df = greensum_df.iloc[21:50]"
   ]
  },
  {
   "cell_type": "code",
   "execution_count": 67,
   "metadata": {},
   "outputs": [
    {
     "data": {
      "text/html": [
       "<div>\n",
       "<style scoped>\n",
       "    .dataframe tbody tr th:only-of-type {\n",
       "        vertical-align: middle;\n",
       "    }\n",
       "\n",
       "    .dataframe tbody tr th {\n",
       "        vertical-align: top;\n",
       "    }\n",
       "\n",
       "    .dataframe thead th {\n",
       "        text-align: right;\n",
       "    }\n",
       "</style>\n",
       "<table border=\"1\" class=\"dataframe\">\n",
       "  <thead>\n",
       "    <tr style=\"text-align: right;\">\n",
       "      <th></th>\n",
       "      <th>x6144-y5120</th>\n",
       "      <th>x6144-y7680</th>\n",
       "      <th>x5632-y7168</th>\n",
       "      <th>x4608-y6144</th>\n",
       "      <th>x6656-y6144</th>\n",
       "      <th>x6656-y8192</th>\n",
       "      <th>x5632-y8704</th>\n",
       "      <th>x7168-y10240</th>\n",
       "      <th>x5120-y6656</th>\n",
       "      <th>x2048-y1024</th>\n",
       "      <th>...</th>\n",
       "      <th>x7168-y9728</th>\n",
       "      <th>x6656-y5120</th>\n",
       "      <th>x7168-y4608</th>\n",
       "      <th>x5120-y5632</th>\n",
       "      <th>x7680-y10240</th>\n",
       "      <th>x6144-y4608</th>\n",
       "      <th>x6144-y9728</th>\n",
       "      <th>x5632-y6656</th>\n",
       "      <th>x5632-y4096</th>\n",
       "      <th>x6144-y8192</th>\n",
       "    </tr>\n",
       "  </thead>\n",
       "  <tbody>\n",
       "    <tr>\n",
       "      <th>0</th>\n",
       "      <td>21545</td>\n",
       "      <td>11712</td>\n",
       "      <td>2941</td>\n",
       "      <td>24</td>\n",
       "      <td>205</td>\n",
       "      <td>7016</td>\n",
       "      <td>1585</td>\n",
       "      <td>18186</td>\n",
       "      <td>4520</td>\n",
       "      <td>202</td>\n",
       "      <td>...</td>\n",
       "      <td>4116</td>\n",
       "      <td>20872</td>\n",
       "      <td>2620</td>\n",
       "      <td>15156</td>\n",
       "      <td>25523</td>\n",
       "      <td>9953</td>\n",
       "      <td>4</td>\n",
       "      <td>111</td>\n",
       "      <td>478</td>\n",
       "      <td>6513</td>\n",
       "    </tr>\n",
       "    <tr>\n",
       "      <th>1</th>\n",
       "      <td>21556</td>\n",
       "      <td>8282</td>\n",
       "      <td>1928</td>\n",
       "      <td>17</td>\n",
       "      <td>2</td>\n",
       "      <td>4874</td>\n",
       "      <td>1145</td>\n",
       "      <td>14964</td>\n",
       "      <td>3559</td>\n",
       "      <td>352</td>\n",
       "      <td>...</td>\n",
       "      <td>3640</td>\n",
       "      <td>13482</td>\n",
       "      <td>1738</td>\n",
       "      <td>13937</td>\n",
       "      <td>23545</td>\n",
       "      <td>10102</td>\n",
       "      <td>32</td>\n",
       "      <td>41</td>\n",
       "      <td>1285</td>\n",
       "      <td>4200</td>\n",
       "    </tr>\n",
       "    <tr>\n",
       "      <th>2</th>\n",
       "      <td>75558</td>\n",
       "      <td>23617</td>\n",
       "      <td>2726</td>\n",
       "      <td>663</td>\n",
       "      <td>187</td>\n",
       "      <td>11235</td>\n",
       "      <td>1283</td>\n",
       "      <td>34787</td>\n",
       "      <td>8227</td>\n",
       "      <td>728</td>\n",
       "      <td>...</td>\n",
       "      <td>15422</td>\n",
       "      <td>24811</td>\n",
       "      <td>4009</td>\n",
       "      <td>41463</td>\n",
       "      <td>58766</td>\n",
       "      <td>21168</td>\n",
       "      <td>586</td>\n",
       "      <td>134</td>\n",
       "      <td>9699</td>\n",
       "      <td>14354</td>\n",
       "    </tr>\n",
       "    <tr>\n",
       "      <th>3</th>\n",
       "      <td>95775</td>\n",
       "      <td>38116</td>\n",
       "      <td>6062</td>\n",
       "      <td>944</td>\n",
       "      <td>715</td>\n",
       "      <td>13079</td>\n",
       "      <td>3260</td>\n",
       "      <td>49667</td>\n",
       "      <td>14546</td>\n",
       "      <td>368</td>\n",
       "      <td>...</td>\n",
       "      <td>17595</td>\n",
       "      <td>42382</td>\n",
       "      <td>4496</td>\n",
       "      <td>57676</td>\n",
       "      <td>82503</td>\n",
       "      <td>32037</td>\n",
       "      <td>1346</td>\n",
       "      <td>56</td>\n",
       "      <td>16743</td>\n",
       "      <td>25719</td>\n",
       "    </tr>\n",
       "    <tr>\n",
       "      <th>4</th>\n",
       "      <td>102436</td>\n",
       "      <td>49714</td>\n",
       "      <td>11983</td>\n",
       "      <td>1043</td>\n",
       "      <td>2105</td>\n",
       "      <td>27555</td>\n",
       "      <td>3213</td>\n",
       "      <td>49449</td>\n",
       "      <td>22448</td>\n",
       "      <td>542</td>\n",
       "      <td>...</td>\n",
       "      <td>14423</td>\n",
       "      <td>64042</td>\n",
       "      <td>8261</td>\n",
       "      <td>72803</td>\n",
       "      <td>80607</td>\n",
       "      <td>29551</td>\n",
       "      <td>1308</td>\n",
       "      <td>331</td>\n",
       "      <td>15542</td>\n",
       "      <td>32076</td>\n",
       "    </tr>\n",
       "  </tbody>\n",
       "</table>\n",
       "<p>5 rows × 65 columns</p>\n",
       "</div>"
      ],
      "text/plain": [
       "   x6144-y5120  x6144-y7680  x5632-y7168  x4608-y6144  x6656-y6144  \\\n",
       "0        21545        11712         2941           24          205   \n",
       "1        21556         8282         1928           17            2   \n",
       "2        75558        23617         2726          663          187   \n",
       "3        95775        38116         6062          944          715   \n",
       "4       102436        49714        11983         1043         2105   \n",
       "\n",
       "   x6656-y8192  x5632-y8704  x7168-y10240  x5120-y6656  x2048-y1024  \\\n",
       "0         7016         1585         18186         4520          202   \n",
       "1         4874         1145         14964         3559          352   \n",
       "2        11235         1283         34787         8227          728   \n",
       "3        13079         3260         49667        14546          368   \n",
       "4        27555         3213         49449        22448          542   \n",
       "\n",
       "      ...       x7168-y9728  x6656-y5120  x7168-y4608  x5120-y5632  \\\n",
       "0     ...              4116        20872         2620        15156   \n",
       "1     ...              3640        13482         1738        13937   \n",
       "2     ...             15422        24811         4009        41463   \n",
       "3     ...             17595        42382         4496        57676   \n",
       "4     ...             14423        64042         8261        72803   \n",
       "\n",
       "   x7680-y10240  x6144-y4608  x6144-y9728  x5632-y6656  x5632-y4096  \\\n",
       "0         25523         9953            4          111          478   \n",
       "1         23545        10102           32           41         1285   \n",
       "2         58766        21168          586          134         9699   \n",
       "3         82503        32037         1346           56        16743   \n",
       "4         80607        29551         1308          331        15542   \n",
       "\n",
       "   x6144-y8192  \n",
       "0         6513  \n",
       "1         4200  \n",
       "2        14354  \n",
       "3        25719  \n",
       "4        32076  \n",
       "\n",
       "[5 rows x 65 columns]"
      ]
     },
     "execution_count": 67,
     "metadata": {},
     "output_type": "execute_result"
    }
   ],
   "source": [
    "# season1718_df = season1718_df.reset_index(drop=True)\n",
    "\n",
    "season1718_df.info()"
   ]
  },
  {
   "cell_type": "code",
   "execution_count": 69,
   "metadata": {},
   "outputs": [],
   "source": [
    "# season1718_df.info()"
   ]
  },
  {
   "cell_type": "code",
   "execution_count": 70,
   "metadata": {},
   "outputs": [],
   "source": [
    "season1718_total = season1718_df.sum(axis=1)"
   ]
  },
  {
   "cell_type": "code",
   "execution_count": 73,
   "metadata": {},
   "outputs": [
    {
     "data": {
      "image/png": "[encoded data removed]",
      "text/plain": [
       "<Figure size 1440x720 with 1 Axes>"
      ]
     },
     "metadata": {
      "needs_background": "light"
     },
     "output_type": "display_data"
    }
   ],
   "source": [
    "plt.figure(figsize=(20,10))\n",
    "x = timeseries_list[21:50]\n",
    "plt.plot(x, season1718_total, 'b-')\n",
    "plt.xticks(rotation=45)\n",
    "plt.show()\n",
    "\n",
    "# mark 2018.06.15 for harvest start date"
   ]
  },
  {
   "cell_type": "code",
   "execution_count": 212,
   "metadata": {},
   "outputs": [
    {
     "data": {
      "text/html": [
       "<div>\n",
       "<style scoped>\n",
       "    .dataframe tbody tr th:only-of-type {\n",
       "        vertical-align: middle;\n",
       "    }\n",
       "\n",
       "    .dataframe tbody tr th {\n",
       "        vertical-align: top;\n",
       "    }\n",
       "\n",
       "    .dataframe thead th {\n",
       "        text-align: right;\n",
       "    }\n",
       "</style>\n",
       "<table border=\"1\" class=\"dataframe\">\n",
       "  <thead>\n",
       "    <tr style=\"text-align: right;\">\n",
       "      <th></th>\n",
       "      <th>x6144-y5120</th>\n",
       "      <th>x6144-y7680</th>\n",
       "      <th>x5632-y7168</th>\n",
       "      <th>x4608-y6144</th>\n",
       "      <th>x6656-y6144</th>\n",
       "      <th>x6656-y8192</th>\n",
       "      <th>x5632-y8704</th>\n",
       "      <th>x7168-y10240</th>\n",
       "      <th>x5120-y6656</th>\n",
       "      <th>x2048-y1024</th>\n",
       "      <th>...</th>\n",
       "      <th>x7168-y9728</th>\n",
       "      <th>x6656-y5120</th>\n",
       "      <th>x7168-y4608</th>\n",
       "      <th>x5120-y5632</th>\n",
       "      <th>x7680-y10240</th>\n",
       "      <th>x6144-y4608</th>\n",
       "      <th>x6144-y9728</th>\n",
       "      <th>x5632-y6656</th>\n",
       "      <th>x5632-y4096</th>\n",
       "      <th>x6144-y8192</th>\n",
       "    </tr>\n",
       "  </thead>\n",
       "  <tbody>\n",
       "    <tr>\n",
       "      <th>0</th>\n",
       "      <td>0.364494</td>\n",
       "      <td>0.344400</td>\n",
       "      <td>0.326713</td>\n",
       "      <td>0.313370</td>\n",
       "      <td>0.428693</td>\n",
       "      <td>0.276696</td>\n",
       "      <td>0.305396</td>\n",
       "      <td>0.391857</td>\n",
       "      <td>0.268395</td>\n",
       "      <td>0.240446</td>\n",
       "      <td>...</td>\n",
       "      <td>0.341313</td>\n",
       "      <td>0.374479</td>\n",
       "      <td>0.472883</td>\n",
       "      <td>0.363848</td>\n",
       "      <td>0.423404</td>\n",
       "      <td>0.423498</td>\n",
       "      <td>0.170243</td>\n",
       "      <td>0.346907</td>\n",
       "      <td>0.439220</td>\n",
       "      <td>0.338001</td>\n",
       "    </tr>\n",
       "    <tr>\n",
       "      <th>1</th>\n",
       "      <td>0.409105</td>\n",
       "      <td>0.331021</td>\n",
       "      <td>0.333961</td>\n",
       "      <td>0.376479</td>\n",
       "      <td>0.421396</td>\n",
       "      <td>0.331202</td>\n",
       "      <td>0.474344</td>\n",
       "      <td>0.527118</td>\n",
       "      <td>0.303987</td>\n",
       "      <td>0.243657</td>\n",
       "      <td>...</td>\n",
       "      <td>0.520391</td>\n",
       "      <td>0.449534</td>\n",
       "      <td>0.415945</td>\n",
       "      <td>0.369552</td>\n",
       "      <td>0.522723</td>\n",
       "      <td>0.433807</td>\n",
       "      <td>0.374263</td>\n",
       "      <td>0.257608</td>\n",
       "      <td>0.451124</td>\n",
       "      <td>0.350494</td>\n",
       "    </tr>\n",
       "    <tr>\n",
       "      <th>2</th>\n",
       "      <td>0.389057</td>\n",
       "      <td>0.436278</td>\n",
       "      <td>0.451120</td>\n",
       "      <td>0.400864</td>\n",
       "      <td>0.485331</td>\n",
       "      <td>0.408035</td>\n",
       "      <td>0.489420</td>\n",
       "      <td>0.533821</td>\n",
       "      <td>0.490616</td>\n",
       "      <td>0.300776</td>\n",
       "      <td>...</td>\n",
       "      <td>0.507525</td>\n",
       "      <td>0.397568</td>\n",
       "      <td>0.388663</td>\n",
       "      <td>0.492637</td>\n",
       "      <td>0.478239</td>\n",
       "      <td>0.450289</td>\n",
       "      <td>0.525915</td>\n",
       "      <td>0.566558</td>\n",
       "      <td>0.543971</td>\n",
       "      <td>0.474021</td>\n",
       "    </tr>\n",
       "    <tr>\n",
       "      <th>3</th>\n",
       "      <td>0.562660</td>\n",
       "      <td>0.467544</td>\n",
       "      <td>0.546479</td>\n",
       "      <td>0.570794</td>\n",
       "      <td>0.612473</td>\n",
       "      <td>0.442532</td>\n",
       "      <td>0.474757</td>\n",
       "      <td>0.576723</td>\n",
       "      <td>0.592805</td>\n",
       "      <td>0.511510</td>\n",
       "      <td>...</td>\n",
       "      <td>0.465995</td>\n",
       "      <td>0.611411</td>\n",
       "      <td>0.396661</td>\n",
       "      <td>0.574996</td>\n",
       "      <td>0.587395</td>\n",
       "      <td>0.516813</td>\n",
       "      <td>0.395670</td>\n",
       "      <td>0.602935</td>\n",
       "      <td>0.545653</td>\n",
       "      <td>0.522479</td>\n",
       "    </tr>\n",
       "    <tr>\n",
       "      <th>4</th>\n",
       "      <td>0.598796</td>\n",
       "      <td>0.580213</td>\n",
       "      <td>0.549328</td>\n",
       "      <td>0.620328</td>\n",
       "      <td>0.517352</td>\n",
       "      <td>0.548982</td>\n",
       "      <td>0.637529</td>\n",
       "      <td>0.660605</td>\n",
       "      <td>0.534005</td>\n",
       "      <td>0.404750</td>\n",
       "      <td>...</td>\n",
       "      <td>0.629047</td>\n",
       "      <td>0.573969</td>\n",
       "      <td>0.578268</td>\n",
       "      <td>0.569885</td>\n",
       "      <td>0.605032</td>\n",
       "      <td>0.614853</td>\n",
       "      <td>0.599523</td>\n",
       "      <td>0.565725</td>\n",
       "      <td>0.612197</td>\n",
       "      <td>0.606348</td>\n",
       "    </tr>\n",
       "    <tr>\n",
       "      <th>5</th>\n",
       "      <td>0.552257</td>\n",
       "      <td>0.546081</td>\n",
       "      <td>0.648424</td>\n",
       "      <td>0.654734</td>\n",
       "      <td>0.509492</td>\n",
       "      <td>0.492526</td>\n",
       "      <td>0.663320</td>\n",
       "      <td>0.555090</td>\n",
       "      <td>0.535830</td>\n",
       "      <td>0.329663</td>\n",
       "      <td>...</td>\n",
       "      <td>0.518376</td>\n",
       "      <td>0.533720</td>\n",
       "      <td>0.559302</td>\n",
       "      <td>0.551145</td>\n",
       "      <td>0.541353</td>\n",
       "      <td>0.556512</td>\n",
       "      <td>0.591159</td>\n",
       "      <td>0.513224</td>\n",
       "      <td>0.609207</td>\n",
       "      <td>0.558359</td>\n",
       "    </tr>\n",
       "    <tr>\n",
       "      <th>6</th>\n",
       "      <td>0.570119</td>\n",
       "      <td>0.529451</td>\n",
       "      <td>0.628445</td>\n",
       "      <td>0.556465</td>\n",
       "      <td>0.581266</td>\n",
       "      <td>0.516105</td>\n",
       "      <td>0.610513</td>\n",
       "      <td>0.563297</td>\n",
       "      <td>0.583425</td>\n",
       "      <td>0.350177</td>\n",
       "      <td>...</td>\n",
       "      <td>0.528408</td>\n",
       "      <td>0.654115</td>\n",
       "      <td>0.632119</td>\n",
       "      <td>0.591732</td>\n",
       "      <td>0.562879</td>\n",
       "      <td>0.621074</td>\n",
       "      <td>0.496968</td>\n",
       "      <td>0.712314</td>\n",
       "      <td>0.596306</td>\n",
       "      <td>0.529851</td>\n",
       "    </tr>\n",
       "    <tr>\n",
       "      <th>7</th>\n",
       "      <td>0.516399</td>\n",
       "      <td>0.554598</td>\n",
       "      <td>0.580535</td>\n",
       "      <td>0.491145</td>\n",
       "      <td>0.550366</td>\n",
       "      <td>0.527384</td>\n",
       "      <td>0.647344</td>\n",
       "      <td>0.623899</td>\n",
       "      <td>0.567078</td>\n",
       "      <td>0.324210</td>\n",
       "      <td>...</td>\n",
       "      <td>0.618737</td>\n",
       "      <td>0.524517</td>\n",
       "      <td>0.532609</td>\n",
       "      <td>0.543147</td>\n",
       "      <td>0.598321</td>\n",
       "      <td>0.544155</td>\n",
       "      <td>0.614340</td>\n",
       "      <td>0.624043</td>\n",
       "      <td>0.542927</td>\n",
       "      <td>0.586020</td>\n",
       "    </tr>\n",
       "    <tr>\n",
       "      <th>8</th>\n",
       "      <td>0.499769</td>\n",
       "      <td>0.535556</td>\n",
       "      <td>0.568058</td>\n",
       "      <td>0.481045</td>\n",
       "      <td>0.538360</td>\n",
       "      <td>0.502236</td>\n",
       "      <td>0.622332</td>\n",
       "      <td>0.610017</td>\n",
       "      <td>0.521259</td>\n",
       "      <td>0.293816</td>\n",
       "      <td>...</td>\n",
       "      <td>0.610873</td>\n",
       "      <td>0.503595</td>\n",
       "      <td>0.508863</td>\n",
       "      <td>0.529969</td>\n",
       "      <td>0.591295</td>\n",
       "      <td>0.515356</td>\n",
       "      <td>0.602012</td>\n",
       "      <td>0.604491</td>\n",
       "      <td>0.522140</td>\n",
       "      <td>0.567131</td>\n",
       "    </tr>\n",
       "    <tr>\n",
       "      <th>9</th>\n",
       "      <td>0.449108</td>\n",
       "      <td>0.534239</td>\n",
       "      <td>0.568058</td>\n",
       "      <td>0.357564</td>\n",
       "      <td>0.538360</td>\n",
       "      <td>0.487804</td>\n",
       "      <td>0.432534</td>\n",
       "      <td>0.609959</td>\n",
       "      <td>0.425636</td>\n",
       "      <td>0.164685</td>\n",
       "      <td>...</td>\n",
       "      <td>0.610873</td>\n",
       "      <td>0.362712</td>\n",
       "      <td>0.388269</td>\n",
       "      <td>0.482401</td>\n",
       "      <td>0.586823</td>\n",
       "      <td>0.430561</td>\n",
       "      <td>0.563803</td>\n",
       "      <td>0.604491</td>\n",
       "      <td>0.404557</td>\n",
       "      <td>0.505280</td>\n",
       "    </tr>\n",
       "  </tbody>\n",
       "</table>\n",
       "<p>10 rows × 65 columns</p>\n",
       "</div>"
      ],
      "text/plain": [
       "   x6144-y5120  x6144-y7680  x5632-y7168  x4608-y6144  x6656-y6144  \\\n",
       "0     0.364494     0.344400     0.326713     0.313370     0.428693   \n",
       "1     0.409105     0.331021     0.333961     0.376479     0.421396   \n",
       "2     0.389057     0.436278     0.451120     0.400864     0.485331   \n",
       "3     0.562660     0.467544     0.546479     0.570794     0.612473   \n",
       "4     0.598796     0.580213     0.549328     0.620328     0.517352   \n",
       "5     0.552257     0.546081     0.648424     0.654734     0.509492   \n",
       "6     0.570119     0.529451     0.628445     0.556465     0.581266   \n",
       "7     0.516399     0.554598     0.580535     0.491145     0.550366   \n",
       "8     0.499769     0.535556     0.568058     0.481045     0.538360   \n",
       "9     0.449108     0.534239     0.568058     0.357564     0.538360   \n",
       "\n",
       "   x6656-y8192  x5632-y8704  x7168-y10240  x5120-y6656  x2048-y1024  \\\n",
       "0     0.276696     0.305396      0.391857     0.268395     0.240446   \n",
       "1     0.331202     0.474344      0.527118     0.303987     0.243657   \n",
       "2     0.408035     0.489420      0.533821     0.490616     0.300776   \n",
       "3     0.442532     0.474757      0.576723     0.592805     0.511510   \n",
       "4     0.548982     0.637529      0.660605     0.534005     0.404750   \n",
       "5     0.492526     0.663320      0.555090     0.535830     0.329663   \n",
       "6     0.516105     0.610513      0.563297     0.583425     0.350177   \n",
       "7     0.527384     0.647344      0.623899     0.567078     0.324210   \n",
       "8     0.502236     0.622332      0.610017     0.521259     0.293816   \n",
       "9     0.487804     0.432534      0.609959     0.425636     0.164685   \n",
       "\n",
       "      ...       x7168-y9728  x6656-y5120  x7168-y4608  x5120-y5632  \\\n",
       "0     ...          0.341313     0.374479     0.472883     0.363848   \n",
       "1     ...          0.520391     0.449534     0.415945     0.369552   \n",
       "2     ...          0.507525     0.397568     0.388663     0.492637   \n",
       "3     ...          0.465995     0.611411     0.396661     0.574996   \n",
       "4     ...          0.629047     0.573969     0.578268     0.569885   \n",
       "5     ...          0.518376     0.533720     0.559302     0.551145   \n",
       "6     ...          0.528408     0.654115     0.632119     0.591732   \n",
       "7     ...          0.618737     0.524517     0.532609     0.543147   \n",
       "8     ...          0.610873     0.503595     0.508863     0.529969   \n",
       "9     ...          0.610873     0.362712     0.388269     0.482401   \n",
       "\n",
       "   x7680-y10240  x6144-y4608  x6144-y9728  x5632-y6656  x5632-y4096  \\\n",
       "0      0.423404     0.423498     0.170243     0.346907     0.439220   \n",
       "1      0.522723     0.433807     0.374263     0.257608     0.451124   \n",
       "2      0.478239     0.450289     0.525915     0.566558     0.543971   \n",
       "3      0.587395     0.516813     0.395670     0.602935     0.545653   \n",
       "4      0.605032     0.614853     0.599523     0.565725     0.612197   \n",
       "5      0.541353     0.556512     0.591159     0.513224     0.609207   \n",
       "6      0.562879     0.621074     0.496968     0.712314     0.596306   \n",
       "7      0.598321     0.544155     0.614340     0.624043     0.542927   \n",
       "8      0.591295     0.515356     0.602012     0.604491     0.522140   \n",
       "9      0.586823     0.430561     0.563803     0.604491     0.404557   \n",
       "\n",
       "   x6144-y8192  \n",
       "0     0.338001  \n",
       "1     0.350494  \n",
       "2     0.474021  \n",
       "3     0.522479  \n",
       "4     0.606348  \n",
       "5     0.558359  \n",
       "6     0.529851  \n",
       "7     0.586020  \n",
       "8     0.567131  \n",
       "9     0.505280  \n",
       "\n",
       "[10 rows x 65 columns]"
      ]
     },
     "execution_count": 212,
     "metadata": {},
     "output_type": "execute_result"
    }
   ],
   "source": [
    "# NDVI file \n",
    "\n",
    "\n",
    "with open(\"tile_xy_ndvi_dict.json\",'r') as fp:\n",
    "    tile_xy_ndvi_dict = json.load(fp)\n",
    "\n",
    "ndvi_df = pd.DataFrame.from_dict(tile_xy_ndvi_dict)\n",
    "ndvi_df.head(10)\n"
   ]
  },
  {
   "cell_type": "code",
   "execution_count": 233,
   "metadata": {},
   "outputs": [],
   "source": [
    "# ndvi_df[\"time\"] = timeseries_list\n",
    "# ndvi_df.to_csv(\"tile_xy_ndvi_dict.csv\", index=False)"
   ]
  },
  {
   "cell_type": "code",
   "execution_count": 214,
   "metadata": {},
   "outputs": [],
   "source": [
    "ndvi_y = ndvi_df.mean(axis=1).values"
   ]
  },
  {
   "cell_type": "code",
   "execution_count": 217,
   "metadata": {},
   "outputs": [],
   "source": [
    "season1718_ndvi_df = ndvi_df.iloc[21:50]\n",
    "season1718_ndvi_mean = season1718_ndvi_df.mean(axis=1).values"
   ]
  },
  {
   "cell_type": "code",
   "execution_count": 218,
   "metadata": {},
   "outputs": [
    {
     "data": {
      "image/png": "[encoded data removed]",
      "text/plain": [
       "<Figure size 1440x720 with 1 Axes>"
      ]
     },
     "metadata": {
      "needs_background": "light"
     },
     "output_type": "display_data"
    }
   ],
   "source": [
    "plt.figure(figsize=(20,10))\n",
    "x = timeseries_list[21:50]\n",
    "plt.plot(x, season1718_ndvi_mean, 'b-')\n",
    "plt.xticks(rotation=45)\n",
    "plt.show()\n"
   ]
  },
  {
   "cell_type": "code",
   "execution_count": 96,
   "metadata": {},
   "outputs": [],
   "source": [
    "# fit NDVI function to the data\n",
    "\n",
    "def NDVI_func(x, m, a, b, ti, tf):\n",
    "    return m / ( 1 +  np.exp((-1) * a * (x - ti)))  -  m / ( 1 +  np.exp((-1) * b * (x - tf)))\n"
   ]
  },
  {
   "cell_type": "code",
   "execution_count": 234,
   "metadata": {},
   "outputs": [
    {
     "data": {
      "text/plain": [
       "'2018-06-15'"
      ]
     },
     "execution_count": 234,
     "metadata": {},
     "output_type": "execute_result"
    }
   ],
   "source": [
    "timeseries_list[21+18]"
   ]
  },
  {
   "cell_type": "code",
   "execution_count": 219,
   "metadata": {},
   "outputs": [
    {
     "data": {
      "text/plain": [
       "18"
      ]
     },
     "execution_count": 219,
     "metadata": {},
     "output_type": "execute_result"
    }
   ],
   "source": [
    "ydata = season1718_ndvi_mean[:18]\n",
    "len(ydata)"
   ]
  },
  {
   "cell_type": "code",
   "execution_count": 220,
   "metadata": {},
   "outputs": [
    {
     "data": {
      "text/plain": [
       "array([0.22615438, 0.21651557, 0.29383668, 0.33367177, 0.35575447,\n",
       "       0.38706845, 0.49908376, 0.4838351 , 0.45595983, 0.43042955,\n",
       "       0.43926377, 0.42008557, 0.55985977, 0.51305607, 0.64444444,\n",
       "       0.53720647, 0.4434728 , 0.54309831])"
      ]
     },
     "execution_count": 220,
     "metadata": {},
     "output_type": "execute_result"
    }
   ],
   "source": [
    "ydata"
   ]
  },
  {
   "cell_type": "code",
   "execution_count": 221,
   "metadata": {},
   "outputs": [],
   "source": [
    "xdata = np.array( list(range(0, 18)) )\n",
    "ydata = np.array( season1718_ndvi_mean[:18] )\n",
    "popt, pcov = curve_fit(NDVI_func, xdata, ydata)"
   ]
  },
  {
   "cell_type": "code",
   "execution_count": 222,
   "metadata": {},
   "outputs": [],
   "source": [
    "m, a, b, ti, tf = popt[0], popt[1], popt[2], popt[3], popt[4]\n"
   ]
  },
  {
   "cell_type": "code",
   "execution_count": 223,
   "metadata": {},
   "outputs": [
    {
     "data": {
      "text/plain": [
       "array([0.21066981, 0.25012965, 0.29027292, 0.32929251, 0.36557583,\n",
       "       0.39795067, 0.42579138, 0.44898318, 0.4677957 , 0.48272964,\n",
       "       0.49438255, 0.50335389, 0.51018952, 0.51535686, 0.51923976,\n",
       "       0.5221444 , 0.52430994, 0.52592039])"
      ]
     },
     "execution_count": 223,
     "metadata": {},
     "output_type": "execute_result"
    }
   ],
   "source": [
    "NDVI_func(xdata, m, a, b, ti, tf)"
   ]
  },
  {
   "cell_type": "code",
   "execution_count": 224,
   "metadata": {},
   "outputs": [
    {
     "data": {
      "image/png": "[encoded data removed]",
      "text/plain": [
       "<Figure size 432x288 with 1 Axes>"
      ]
     },
     "metadata": {
      "needs_background": "light"
     },
     "output_type": "display_data"
    }
   ],
   "source": [
    "plt.plot(xdata, NDVI_func(xdata, *popt), 'g--')\n",
    "plt.plot(xdata, ydata, 'bo')\n",
    "plt.show()"
   ]
  },
  {
   "cell_type": "code",
   "execution_count": 225,
   "metadata": {},
   "outputs": [],
   "source": [
    "\n",
    "ydata = np.array( season1718_ndvi_mean[:18] )\n",
    "xdata = np.array( list(range(0, len(ydata))) )\n",
    "# testydata = ydata * 0.0000001\n",
    "# testydata"
   ]
  },
  {
   "cell_type": "code",
   "execution_count": 226,
   "metadata": {},
   "outputs": [],
   "source": [
    "from scipy.optimize import least_squares\n",
    "\n",
    "def fun(x, t, y):\n",
    "    m, a, b, ti, tf = x[0], x[1], x[2], x[3], x[4]\n",
    "    return NDVI_func(t, m, a, b, ti, tf) - y\n",
    "x0 = np.ones(5)\n",
    "res_lsq = least_squares(fun, x0, args=(xdata, ydata))\n",
    "\n",
    "# reference: https://scipy-cookbook.readthedocs.io/items/robust_regression.html"
   ]
  },
  {
   "cell_type": "code",
   "execution_count": 227,
   "metadata": {},
   "outputs": [
    {
     "data": {
      "text/plain": [
       "array([  0.58517436,   0.29786019,  -0.062126  ,  -0.70629908,\n",
       "       -21.52063093])"
      ]
     },
     "execution_count": 227,
     "metadata": {},
     "output_type": "execute_result"
    }
   ],
   "source": [
    "res_lsq.x"
   ]
  },
  {
   "cell_type": "code",
   "execution_count": 229,
   "metadata": {},
   "outputs": [
    {
     "data": {
      "image/png": "[encoded data removed]",
      "text/plain": [
       "<Figure size 432x288 with 1 Axes>"
      ]
     },
     "metadata": {
      "needs_background": "light"
     },
     "output_type": "display_data"
    }
   ],
   "source": [
    "plt.plot(xdata, NDVI_func(xdata, *res_lsq.x), 'g--')\n",
    "plt.plot(xdata, ydata, 'bo')\n",
    "plt.show()\n",
    "\n",
    "# the line is wrong because the y value should be NDVI, range from -1 to 1, not green sum\n",
    "# and the x value should be thermal age not age "
   ]
  },
  {
   "cell_type": "code",
   "execution_count": 230,
   "metadata": {},
   "outputs": [
    {
     "data": {
      "text/plain": [
       "(7.418822410624586, 3.5896563136300383e-12)"
      ]
     },
     "execution_count": 230,
     "metadata": {},
     "output_type": "execute_result"
    }
   ],
   "source": [
    "# I = quad(NDVI_func, 0, 17, args=(m, a, b, ti, tf) )\n",
    "m, a, b, ti, tf = res_lsq.x[0], res_lsq.x[1], res_lsq.x[2], res_lsq.x[3], res_lsq.x[4]\n",
    "I = quad(NDVI_func, 0, 17, args=(m, a, b, ti, tf) )\n",
    "I\n",
    "# corresponding to 17/18 proserpine sugarcane yield \n",
    "# need to do linear regression "
   ]
  },
  {
   "cell_type": "code",
   "execution_count": 109,
   "metadata": {},
   "outputs": [],
   "source": [
    "# observed value for sugarcane yield in Proserpine for 17/18 = 66.0   (unit = Tonnes of cane per hectare, t/ha)\n",
    "true_yield = 66.0\n"
   ]
  },
  {
   "cell_type": "code",
   "execution_count": 231,
   "metadata": {},
   "outputs": [],
   "source": [
    "def predict_yield(x):\n",
    "    return (66.0 / I[0]) * x"
   ]
  },
  {
   "cell_type": "code",
   "execution_count": 232,
   "metadata": {},
   "outputs": [
    {
     "data": {
      "image/png": "[encoded data removed]",
      "text/plain": [
       "<Figure size 432x288 with 1 Axes>"
      ]
     },
     "metadata": {
      "needs_background": "light"
     },
     "output_type": "display_data"
    }
   ],
   "source": [
    "xx = np.array([0, I[0]])\n",
    "yy = np.array([0, true_yield])\n",
    "plt.plot(xx, predict_yield(xx), 'g-')\n",
    "plt.plot(xx, yy, 'bo')\n",
    "plt.show()"
   ]
  },
  {
   "cell_type": "code",
   "execution_count": null,
   "metadata": {},
   "outputs": [],
   "source": [
    "# design API calls\n",
    "# no need for customised regions \n",
    "# just use this 65 tile as regions for Proserpine \n",
    "\n",
    "\n",
    "# APIs\n",
    "# getEstimatedYield( ratoonStartDate, harvestStartDate, regionId )\n",
    "#    ratoonStartDate:   the date when last harvest just finishes, and regrow starts\n",
    "#    harvestStartDate:  the date when starting to harvest the sugarcane \n",
    "#    regionId:          the id that corresponds to a certain region in Proserpine, from a total of 65 regions\n",
    "# return: the estimated yield for that region \n",
    "\n"
   ]
  },
  {
   "cell_type": "code",
   "execution_count": 197,
   "metadata": {},
   "outputs": [
    {
     "data": {
      "text/plain": [
       "datetime.timedelta(days=10)"
      ]
     },
     "execution_count": 197,
     "metadata": {},
     "output_type": "execute_result"
    }
   ],
   "source": [
    "from datetime import datetime\n",
    "\n",
    "datetime_object = datetime.strptime(timeseries_list[1], '%Y-%m-%d')\n",
    "datetime_object2 = datetime.strptime(timeseries_list[2], '%Y-%m-%d')\n",
    "datetime_object3 = datetime.strptime(timeseries_list[3], '%Y-%m-%d')\n",
    "min([datetime_object2 - datetime_object, datetime_object3 - datetime_object])"
   ]
  },
  {
   "cell_type": "code",
   "execution_count": 198,
   "metadata": {},
   "outputs": [
    {
     "data": {
      "text/plain": [
       "'2017-02-10'"
      ]
     },
     "execution_count": 198,
     "metadata": {},
     "output_type": "execute_result"
    }
   ],
   "source": [
    "datetime_object3.strftime('%Y-%m-%d')"
   ]
  },
  {
   "cell_type": "code",
   "execution_count": 211,
   "metadata": {},
   "outputs": [
    {
     "data": {
      "text/plain": [
       "3"
      ]
     },
     "execution_count": 211,
     "metadata": {},
     "output_type": "execute_result"
    }
   ],
   "source": [
    "timeseries_list.index('2017-02-10')"
   ]
  }
 ],
 "metadata": {
  "kernelspec": {
   "display_name": "Python 3",
   "language": "python",
   "name": "python3"
  },
  "language_info": {
   "codemirror_mode": {
    "name": "ipython",
    "version": 3
   },
   "file_extension": ".py",
   "mimetype": "text/x-python",
   "name": "python",
   "nbconvert_exporter": "python",
   "pygments_lexer": "ipython3",
   "version": "3.7.1"
  }
 },
 "nbformat": 4,
 "nbformat_minor": 2
}
