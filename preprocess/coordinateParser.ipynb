{
 "cells": [
  {
   "cell_type": "code",
   "execution_count": 59,
   "metadata": {},
   "outputs": [],
   "source": [
    "import pandas as pd\n",
    "import numpy as np\n",
    "from tqdm.auto import tqdm\n",
    "\n",
    "\n",
    "from PIL import Image, ImageDraw\n",
    "import glob\n",
    "import os\n",
    "import matplotlib.pyplot as plt\n",
    "import math \n",
    "\n",
    "\n",
    "import scipy.misc as smp\n",
    "\n",
    "import json\n",
    "from datetime import datetime\n",
    "\n",
    "from operator import add\n",
    "import re\n",
    "\n",
    "import gmplot\n",
    "from shapely import geometry"
   ]
  },
  {
   "cell_type": "code",
   "execution_count": 78,
   "metadata": {},
   "outputs": [],
   "source": [
    "# latitude_list = [ 30.3358376, 30.307977, 30.3216419 ] \n",
    "# longitude_list = [ 77.8701919, 78.048457, 78.0413095 ] \n",
    "\n",
    "coor_list = np.array([ [ 147.955298998399996, -19.893321306345999 ], \\\n",
    " [ 148.004100560007117, -19.893050274618691 ], \\\n",
    " [ 148.004398804194921, -19.939217333149461 ], \\\n",
    " [ 147.955578599026836, -19.939492752634816 ], \\\n",
    " [ 147.955298998399996, -19.893321306345999 ] ] )\n",
    "\n",
    "coor_list3 = np.array( [ [ 148.102643769079208, -19.98497714184467 ], \\\n",
    "                                                [ 148.151567620321799, -19.984663182667305 ], \\\n",
    "                                                [ 148.152253886592121, -20.07718124667651 ], \\\n",
    "                                                [ 148.10329963745869, -20.077498424927406 ], \\\n",
    "                                                [ 148.102643769079208, -19.98497714184467 ] ] )\n",
    "\n",
    "\n",
    "coor_list2 = np.array([     # proserpine region coordinates \n",
    "[ \n",
    "   147.9552989984,\n",
    "   -19.893321306346\n",
    "],\n",
    "[ \n",
    "   149.00386329475,\n",
    "   -19.884605137462\n",
    "],\n",
    "[ \n",
    "   149.01671779369,\n",
    "   -20.876176661406\n",
    "],\n",
    "[ \n",
    "   147.96143100666,\n",
    "   -20.885366094496\n",
    "],\n",
    "[ \n",
    "   147.9552989984,\n",
    "   -19.893321306346\n",
    "]])\n",
    "\n",
    "\n",
    "\n",
    "latitude_list = coor_list3[:,1].tolist()    \n",
    "longitude_list = coor_list3[:,0].tolist()\n",
    "\n",
    "# latitude_list = [-19.893321306346]#,-19.89305027461869,-19.93921733314946,-19.939492752634816,-19.893321306346]\n",
    "# longitude_list = [147.9552989984]#,148.00410056000712,148.00439880419492,147.95557859902684,147.9552989984]\n",
    "\n",
    "# gmap5 = gmplot.GoogleMapPlotter(30.3164945, 78.03219179999999, 13) \n",
    "\n",
    "gmap5 = gmplot.GoogleMapPlotter(-19.893321306345999,147.955298998399996,13) \n",
    "  \n",
    "gmap5.scatter( latitude_list, longitude_list, '# FFFF00', size = 600, marker = False) \n",
    "  \n",
    "# # polygon method Draw a polygon with \n",
    "# # the help of coordinates \n",
    "gmap5.polygon(latitude_list, longitude_list, color = 'cornflowerblue') \n",
    "  \n",
    "gmap5.draw( \"./maptest.html\" ) \n",
    "\n",
    "\n"
   ]
  },
  {
   "cell_type": "code",
   "execution_count": 26,
   "metadata": {},
   "outputs": [
    {
     "data": {
      "text/plain": [
       "20.0"
      ]
     },
     "execution_count": 26,
     "metadata": {},
     "output_type": "execute_result"
    }
   ],
   "source": [
    "10240/512"
   ]
  },
  {
   "cell_type": "code",
   "execution_count": 27,
   "metadata": {},
   "outputs": [
    {
     "name": "stdout",
     "output_type": "stream",
     "text": [
      "./tiles/tile-x7620-y7600.png\n",
      "./geometries/geo-x7620-y7600.geojson\n",
      "./mask/mask-x7620-y7600.png\n"
     ]
    }
   ],
   "source": [
    "# include functions \n",
    "%run phase02-mask-generation/SugarUtils.py"
   ]
  },
  {
   "cell_type": "code",
   "execution_count": 76,
   "metadata": {
    "scrolled": true
   },
   "outputs": [
    {
     "name": "stdout",
     "output_type": "stream",
     "text": [
      "We are here\n",
      "The Bearing is 89.67191206512382\n",
      "The Distance is 109809.99554660093\n",
      "The Distance is 109784.18695433934\n",
      "The Area is 12055.401080543206\n",
      "Lat long of a  (-19.893321306346, 147.9552989984)\n",
      "Lat long of b  (-19.884605137462, 149.00386329475)\n",
      "Testing bearing alternat  19 53m 4.39153s S, 149 0m 13.9055s E\n"
     ]
    }
   ],
   "source": [
    "%run phase02-mask-generation/GeoLibrary.py "
   ]
  },
  {
   "cell_type": "code",
   "execution_count": 108,
   "metadata": {},
   "outputs": [
    {
     "name": "stdout",
     "output_type": "stream",
     "text": [
      "5657.159332048983   4763.63818032759\n",
      "[5657, 4763]\n",
      "5142.26970062559   4588.569738488443\n",
      "[5142, 4588]\n"
     ]
    }
   ],
   "source": [
    "a = [ [ 148.448118224339254, -20.306292582809959 ], \\\n",
    " [ 148.497045787660284, -20.305881928257023 ], \\\n",
    " [ 148.497490940813464, -20.352048742575484 ], \\\n",
    " [ 148.448548584860021, -20.352460106070474 ], \\\n",
    " [ 148.448118224339254, -20.306292582809959 ] ]\n",
    "\n",
    "lat1,lon1 = -19.893321306346,147.9552989984   # (0,0)\n",
    "lat2,lon2 = -19.98497714184467,148.102643769079208\n",
    "lat3,lon3 = -20.322048742575484,148.497490940813464\n",
    "lat4,lon4 = -20.306292582809959,148.448118224339254\n",
    "\n",
    "def latlon_to_xy(lat1,lon1,lat2,lon2):\n",
    "    dx = abs(lon1-lon2)*40000*math.cos((lat1+lat2)*math.pi/360)/360\n",
    "    dy = abs(lat1-lat2)*40000/360\n",
    "    print(dx*1000/10, \" \",dy*1000/10)   # answer in km\n",
    "    return [math.floor(dx*1000/10), math.floor(dy*1000/10)]\n",
    "\n",
    "print( latlon_to_xy(lat1,lon1,lat3,lon3) )\n",
    "print( latlon_to_xy(lat1,lon1,lat4,lon4) )\n",
    "# 10m per pixel resolution"
   ]
  },
  {
   "cell_type": "code",
   "execution_count": 87,
   "metadata": {},
   "outputs": [
    {
     "name": "stdout",
     "output_type": "stream",
     "text": [
      "Generating files ......\n",
      "File Generation completed\n"
     ]
    }
   ],
   "source": [
    "config = ConfigParser.ConfigParser()\n",
    "config.read('geo.config')\n",
    "%run phase02-mask-generation/GenerateGeoJSON.py"
   ]
  },
  {
   "cell_type": "code",
   "execution_count": 38,
   "metadata": {},
   "outputs": [],
   "source": [
    "# get all xy positions \n",
    "geojson_files = f\"./Phase02-DataDelivery/geometries/*.geojson\"\n",
    "geojson_names = glob.glob(geojson_files)\n",
    "\n",
    "# get all the x, y positions \n",
    "xy_pair = []\n",
    "for gf in geojson_names:\n",
    "    mask_list = re.findall(r'\\d+', gf)\n",
    "    xy_pair.append( (int(mask_list[1]), int(mask_list[2])) )"
   ]
  },
  {
   "cell_type": "code",
   "execution_count": 40,
   "metadata": {},
   "outputs": [],
   "source": [
    "xy_pair_sorted = sorted(xy_pair, key=lambda tup: (tup[0],tup[1]))"
   ]
  },
  {
   "cell_type": "code",
   "execution_count": 50,
   "metadata": {},
   "outputs": [],
   "source": [
    "coor_dict = {}\n",
    "for gf in geojson_names:\n",
    "    mask_list = re.findall(r'\\d+', gf)\n",
    "    x,y = int(mask_list[1]), int(mask_list[2])\n",
    "    with open(gf) as f:\n",
    "        jo = json.load(f)\n",
    "    coor_list = jo[\"features\"][0][\"geometry\"][\"coordinates\"][0]\n",
    "    coor_dict[\"x{}-y{}\".format(x,y)] = coor_list\n"
   ]
  },
  {
   "cell_type": "code",
   "execution_count": 53,
   "metadata": {},
   "outputs": [
    {
     "data": {
      "text/plain": [
       "441"
      ]
     },
     "execution_count": 53,
     "metadata": {},
     "output_type": "execute_result"
    }
   ],
   "source": [
    "# len(coor_dict)  # 441\n",
    "len(xy_pair_sorted)   #441"
   ]
  },
  {
   "cell_type": "code",
   "execution_count": 56,
   "metadata": {},
   "outputs": [
    {
     "name": "stdout",
     "output_type": "stream",
     "text": [
      "[10980, 10980]\n"
     ]
    }
   ],
   "source": [
    "def get_num_pixels(filepath):\n",
    "    width, height = Image.open(filepath).size\n",
    "    return [width, height]\n",
    "\n",
    "print(get_num_pixels(\"./phase02-mask-generation/FullImage.png\"))"
   ]
  },
  {
   "cell_type": "code",
   "execution_count": 72,
   "metadata": {},
   "outputs": [
    {
     "name": "stdout",
     "output_type": "stream",
     "text": [
      "GEOMETRYCOLLECTION (POLYGON ((148.156346412259 -20.63229905104974, 148.2053849264256 -20.63196798736892, 148.2057409032773 -20.67813555888257, 148.1566875594567 -20.67846658867755, 148.156346412259 -20.63229905104974)))\n",
      "True\n",
      "POLYGON ((148.156346412259 -20.63229905104974, 148.2053849264256 -20.63196798736892, 148.2057409032773 -20.67813555888257, 148.1566875594567 -20.67846658867755, 148.156346412259 -20.63229905104974))\n"
     ]
    }
   ],
   "source": [
    "with open(\"./phase02-mask-generation/FullGeometry.json\") as f:\n",
    "    fulljson = json.load(f)\n",
    "\n",
    "fullgo = geometry.GeometryCollection([geometry.shape(fulljson[\"geometry\"]).buffer(0)])\n",
    "\n",
    "for gf in geojson_names:\n",
    "    with open(gf) as f:\n",
    "        jo = json.load(f)\n",
    "    geo_json_features = jo[\"features\"]\n",
    "#     tile=geometry.GeometryCollection(geometry.shape(coor_list).buffer(0))\n",
    "    tile=geometry.GeometryCollection([geometry.shape(feature[\"geometry\"]).buffer(0) for feature in geo_json_features])\n",
    "    print( tile) \n",
    "    if tile.intersects(fullgo):\n",
    "        print(True)\n",
    "        print( fullgo.intersection(tile) )\n",
    "    break\n"
   ]
  },
  {
   "cell_type": "code",
   "execution_count": 74,
   "metadata": {},
   "outputs": [],
   "source": [
    "mask_files = f\"./Phase02-DataDelivery/masks/*.png\"\n",
    "mask_images = glob.glob(mask_files)\n",
    "\n",
    "# get all the x, y positions of tiles from masks file name\n",
    "masked_xy_pair = []\n",
    "for mask_img in mask_images:\n",
    "    mask_list = re.findall(r'\\d+', mask_img)\n",
    "    masked_xy_pair.append( (mask_list[1],mask_list[2]) )\n",
    "    \n",
    "masked_xy_pair_sorted = sorted(masked_xy_pair, key=lambda tup: (tup[0],tup[1]))"
   ]
  },
  {
   "cell_type": "code",
   "execution_count": 77,
   "metadata": {},
   "outputs": [
    {
     "data": {
      "text/plain": [
       "[('1536', '1024'),\n",
       " ('1536', '1536'),\n",
       " ('2048', '1024'),\n",
       " ('2048', '1536'),\n",
       " ('4608', '4608'),\n",
       " ('4608', '5120'),\n",
       " ('4608', '5632'),\n",
       " ('4608', '6144'),\n",
       " ('5120', '3584'),\n",
       " ('5120', '4096'),\n",
       " ('5120', '4608'),\n",
       " ('5120', '5120'),\n",
       " ('5120', '5632'),\n",
       " ('5120', '6144'),\n",
       " ('5120', '6656'),\n",
       " ('5120', '7168'),\n",
       " ('5632', '4096'),\n",
       " ('5632', '4608'),\n",
       " ('5632', '5120'),\n",
       " ('5632', '5632'),\n",
       " ('5632', '6144'),\n",
       " ('5632', '6656'),\n",
       " ('5632', '7168'),\n",
       " ('5632', '7680'),\n",
       " ('5632', '8192'),\n",
       " ('5632', '8704'),\n",
       " ('6144', '4096'),\n",
       " ('6144', '4608'),\n",
       " ('6144', '5120'),\n",
       " ('6144', '5632'),\n",
       " ('6144', '6144'),\n",
       " ('6144', '6656'),\n",
       " ('6144', '7168'),\n",
       " ('6144', '7680'),\n",
       " ('6144', '8192'),\n",
       " ('6144', '8704'),\n",
       " ('6144', '9216'),\n",
       " ('6144', '9728'),\n",
       " ('6656', '10240'),\n",
       " ('6656', '4096'),\n",
       " ('6656', '4608'),\n",
       " ('6656', '5120'),\n",
       " ('6656', '5632'),\n",
       " ('6656', '6144'),\n",
       " ('6656', '6656'),\n",
       " ('6656', '7168'),\n",
       " ('6656', '7680'),\n",
       " ('6656', '8192'),\n",
       " ('6656', '8704'),\n",
       " ('6656', '9216'),\n",
       " ('6656', '9728'),\n",
       " ('7168', '10240'),\n",
       " ('7168', '4096'),\n",
       " ('7168', '4608'),\n",
       " ('7168', '5120'),\n",
       " ('7168', '5632'),\n",
       " ('7168', '6656'),\n",
       " ('7168', '7168'),\n",
       " ('7168', '9728'),\n",
       " ('7680', '10240'),\n",
       " ('7680', '5120'),\n",
       " ('7680', '5632'),\n",
       " ('7680', '9728'),\n",
       " ('8192', '10240'),\n",
       " ('8704', '10240')]"
      ]
     },
     "execution_count": 77,
     "metadata": {},
     "output_type": "execute_result"
    }
   ],
   "source": [
    "masked_xy_pair_sorted"
   ]
  },
  {
   "cell_type": "code",
   "execution_count": null,
   "metadata": {},
   "outputs": [],
   "source": [
    "[[ 148.102972282445677, -20.031237148182278 ], \\\n",
    " [ 148.151910966339955, -20.030921304516287 ], \\\n",
    " [ 148.152253886592121, -20.07718124667651 ], \\\n",
    " [ 148.10329963745869, -20.077498424927406 ], \\\n",
    " [ 148.102972282445677, -20.031237148182278 ] ] \n"
   ]
  },
  {
   "cell_type": "code",
   "execution_count": 121,
   "metadata": {},
   "outputs": [
    {
     "name": "stdout",
     "output_type": "stream",
     "text": [
      "[148.49749094 -20.30588193]\n",
      "[148.44811822 -20.32246011]\n"
     ]
    },
    {
     "data": {
      "text/plain": [
       "'\\nSUGAR_JSON = \"./phase02-mask-generation/FullSugar.geojson\"\\nwith open(SUGAR_JSON) as f:\\n    features = json.load(f)[\"features\"]\\n\\n\\ntop_left = inputGeo[\"coordinates\"][0][0]\\nbottom_right = inputGeo[\"coordinates\"][0][2]\\nlat2,lon2 = top_left[1], top_left[0]\\nlat3,lon3 = bottom_right[1], bottom_right[0]\\nlat1,lon1 = -19.893321306346,147.9552989984   # (0,0) the origin\\n[top_x,top_y] = latlon_to_xy(lat1,lon1,lat2,lon2)\\n[bottom_x,bottom_y] = latlon_to_xy(lat1,lon1,lat3,lon3)\\n\\nprint([top_x, top_y])\\nprint([bottom_x,bottom_y])\\n\\n\\n# for each masked tile files\\nxy_tile_needed_ij_dict = {}\\n# for xy in tqdm(masked_xy_pair):\\n    \\n#     x,y = int(xy[0]),int(xy[1])\\n#     geoJSONPath = \"./Phase02-DataDelivery/geometries/geo-x{}-y{}.geojson\".format(x,y)\\n#     with open(geoJSONPath) as f:\\n#         geo_json_features = json.load(f)[\"features\"]\\n#     tile=geometry.GeometryCollection([geometry.shape(feature[\"geometry\"]).buffer(0) for feature in geo_json_features])\\n\\n    \\nresult=geometry.GeometryCollection()   # sugarcane masks that intersects tile\\nfor k in features:\\n    if geometry.shape(k[\"geometry\"]).intersects(inputGeo_go):\\n        result=result.union(geometry.shape(k[\"geometry\"]).intersection(inputGeo_go))\\n\\n\\nneeded_ij_list = []\\nif inputGeo_go.intersects( result ):\\n    # find the mask in the input region\\n    for i in tqdm(list(range(top_x, bottom_x))):\\n        for j in list(range(top_y, bottom_y)):\\n            lat_long=GetLatLongForCoords(i,j)\\n            if result.intersects(geometry.Point(lat_long)):\\n                # this coordinate is needed\\n                needed_ij_list.append((i,j))\\n    \\n    \\n        # this tile is needed \\n#         for i in list(range(0,512)):\\n#             for j in list(range(0,512)):\\n#                 nx = x+i\\n#                 ny = y+j\\n#                 lat_long=GetLatLongForCoords(nx,ny)\\n#                 if result.intersects(geometry.Point(lat_long)) and inputGeo_go.intersects(geometry.Point(lat_long)):\\n#                     # this coordinate is needed\\n#                     needed_ij_list.append((i,j))\\n    \\n#     xy_tile_needed_ij_dict[\"x{}-y{}\".format(x,y)] = needed_ij_list\\n\\n'"
      ]
     },
     "execution_count": 121,
     "metadata": {},
     "output_type": "execute_result"
    }
   ],
   "source": [
    "inputGeo = { \"type\": \"Polygon\", \"coordinates\": [[ [ 148.448118224339254, -20.306292582809959 ], \\\n",
    "                                                 [ 148.497045787660284, -20.305881928257023 ], \\\n",
    "                                                 [ 148.497490940813464, -20.322048742575484 ], \\\n",
    "                                                 [ 148.448548584860021, -20.322460106070474 ], \\\n",
    "                                                 [ 148.448118224339254, -20.306292582809959 ] ]]  }\n",
    "inputGeo_go = geometry.GeometryCollection([geometry.shape(inputGeo).buffer(0)])\n",
    "\n",
    "# find the max topleft, max bottom right\n",
    "coordinates_list = np.array( inputGeo[\"coordinates\"][0] )\n",
    "\n",
    "print( np.max(coordinates_list, axis=0) )\n",
    "print( np.min(coordinates_list, axis=0) )\n",
    "\n",
    "\"\"\"\n",
    "SUGAR_JSON = \"./phase02-mask-generation/FullSugar.geojson\"\n",
    "with open(SUGAR_JSON) as f:\n",
    "    features = json.load(f)[\"features\"]\n",
    "\n",
    "\n",
    "top_left = inputGeo[\"coordinates\"][0][0]\n",
    "bottom_right = inputGeo[\"coordinates\"][0][2]\n",
    "lat2,lon2 = top_left[1], top_left[0]\n",
    "lat3,lon3 = bottom_right[1], bottom_right[0]\n",
    "lat1,lon1 = -19.893321306346,147.9552989984   # (0,0) the origin\n",
    "[top_x,top_y] = latlon_to_xy(lat1,lon1,lat2,lon2)\n",
    "[bottom_x,bottom_y] = latlon_to_xy(lat1,lon1,lat3,lon3)\n",
    "\n",
    "print([top_x, top_y])\n",
    "print([bottom_x,bottom_y])\n",
    "\n",
    "\n",
    "# for each masked tile files\n",
    "xy_tile_needed_ij_dict = {}\n",
    "# for xy in tqdm(masked_xy_pair):\n",
    "    \n",
    "#     x,y = int(xy[0]),int(xy[1])\n",
    "#     geoJSONPath = \"./Phase02-DataDelivery/geometries/geo-x{}-y{}.geojson\".format(x,y)\n",
    "#     with open(geoJSONPath) as f:\n",
    "#         geo_json_features = json.load(f)[\"features\"]\n",
    "#     tile=geometry.GeometryCollection([geometry.shape(feature[\"geometry\"]).buffer(0) for feature in geo_json_features])\n",
    "\n",
    "    \n",
    "result=geometry.GeometryCollection()   # sugarcane masks that intersects tile\n",
    "for k in features:\n",
    "    if geometry.shape(k[\"geometry\"]).intersects(inputGeo_go):\n",
    "        result=result.union(geometry.shape(k[\"geometry\"]).intersection(inputGeo_go))\n",
    "\n",
    "\n",
    "needed_ij_list = []\n",
    "if inputGeo_go.intersects( result ):\n",
    "    # find the mask in the input region\n",
    "    for i in tqdm(list(range(top_x, bottom_x))):\n",
    "        for j in list(range(top_y, bottom_y)):\n",
    "            lat_long=GetLatLongForCoords(i,j)\n",
    "            if result.intersects(geometry.Point(lat_long)):\n",
    "                # this coordinate is needed\n",
    "                needed_ij_list.append((i,j))\n",
    "    \n",
    "    \n",
    "        # this tile is needed \n",
    "#         for i in list(range(0,512)):\n",
    "#             for j in list(range(0,512)):\n",
    "#                 nx = x+i\n",
    "#                 ny = y+j\n",
    "#                 lat_long=GetLatLongForCoords(nx,ny)\n",
    "#                 if result.intersects(geometry.Point(lat_long)) and inputGeo_go.intersects(geometry.Point(lat_long)):\n",
    "#                     # this coordinate is needed\n",
    "#                     needed_ij_list.append((i,j))\n",
    "    \n",
    "#     xy_tile_needed_ij_dict[\"x{}-y{}\".format(x,y)] = needed_ij_list\n",
    "\n",
    "\"\"\"\n"
   ]
  },
  {
   "cell_type": "code",
   "execution_count": 112,
   "metadata": {},
   "outputs": [
    {
     "data": {
      "text/plain": [
       "42342"
      ]
     },
     "execution_count": 112,
     "metadata": {},
     "output_type": "execute_result"
    }
   ],
   "source": [
    "len(needed_ij_list)"
   ]
  },
  {
   "cell_type": "code",
   "execution_count": 116,
   "metadata": {},
   "outputs": [
    {
     "data": {
      "text/plain": [
       "-20.312048742575485"
      ]
     },
     "execution_count": 116,
     "metadata": {},
     "output_type": "execute_result"
    }
   ],
   "source": [
    "from decimal import Decimal\n",
    "float(-20.312048742575484)"
   ]
  }
 ],
 "metadata": {
  "kernelspec": {
   "display_name": "Python 3",
   "language": "python",
   "name": "python3"
  },
  "language_info": {
   "codemirror_mode": {
    "name": "ipython",
    "version": 3
   },
   "file_extension": ".py",
   "mimetype": "text/x-python",
   "name": "python",
   "nbconvert_exporter": "python",
   "pygments_lexer": "ipython3",
   "version": "3.7.1"
  }
 },
 "nbformat": 4,
 "nbformat_minor": 2
}
