{
 "cells": [
  {
   "cell_type": "code",
   "execution_count": 1,
   "metadata": {},
   "outputs": [],
   "source": [
    "import pandas as pd\n",
    "import numpy as np\n"
   ]
  },
  {
   "cell_type": "code",
   "execution_count": 6,
   "metadata": {},
   "outputs": [],
   "source": [
    "month_list = [\"Jan\",\"Feb\",\"Mar\",\"Apr\",\"May\",\"Jun\",\"Jul\",\"Aug\",\"Sep\",\"Oct\",\"Nov\",\"Dec\"]"
   ]
  },
  {
   "cell_type": "code",
   "execution_count": 35,
   "metadata": {},
   "outputs": [],
   "source": [
    "tem_16_df = pd.read_csv(\"tem_16.tsv\", sep=\"\\t\", header=None)\n",
    "tem_16_df.drop(tem_16_df.columns[0], axis=1, inplace=True)\n",
    "tem_16_df.columns = month_list\n"
   ]
  },
  {
   "cell_type": "code",
   "execution_count": 12,
   "metadata": {},
   "outputs": [],
   "source": [
    "# tem_16_df"
   ]
  },
  {
   "cell_type": "code",
   "execution_count": 36,
   "metadata": {},
   "outputs": [],
   "source": [
    "# tem_16_df.to_csv(\"temp_16_proserpine.csv\", index=False)"
   ]
  },
  {
   "cell_type": "code",
   "execution_count": 37,
   "metadata": {},
   "outputs": [],
   "source": [
    "\n",
    "tem_17_df = pd.read_csv(\"tem_17.tsv\", sep=\"\\t\", header=None)\n",
    "tem_17_df.drop(tem_17_df.columns[0], axis=1, inplace=True)\n",
    "tem_17_df.columns = month_list"
   ]
  },
  {
   "cell_type": "code",
   "execution_count": 38,
   "metadata": {},
   "outputs": [],
   "source": [
    "# tem_17_df\n",
    "# tem_17_df.to_csv(\"temp_17_proserpine.csv\", index=False)"
   ]
  },
  {
   "cell_type": "code",
   "execution_count": 39,
   "metadata": {},
   "outputs": [],
   "source": [
    "tem_18_df = pd.read_csv(\"tem_18.tsv\", sep=\"\\t\", header=None)\n",
    "tem_18_df.drop(tem_18_df.columns[0], axis=1, inplace=True)\n",
    "tem_18_df.columns = month_list"
   ]
  },
  {
   "cell_type": "code",
   "execution_count": 40,
   "metadata": {},
   "outputs": [],
   "source": [
    "# tem_18_df\n",
    "# tem_18_df.to_csv(\"temp_18_proserpine.csv\", index=False)"
   ]
  },
  {
   "cell_type": "code",
   "execution_count": 41,
   "metadata": {},
   "outputs": [],
   "source": [
    "tem_19_df = pd.read_csv(\"tem_19.tsv\", sep=\"\\t\", header=None)\n",
    "tem_19_df.drop(tem_19_df.columns[0], axis=1, inplace=True)\n",
    "tem_19_df.columns = month_list"
   ]
  },
  {
   "cell_type": "code",
   "execution_count": 42,
   "metadata": {},
   "outputs": [],
   "source": [
    "# tem_19_df\n",
    "# tem_19_df.to_csv(\"temp_19_proserpine.csv\", index=False)"
   ]
  },
  {
   "cell_type": "code",
   "execution_count": 23,
   "metadata": {},
   "outputs": [],
   "source": [
    "# For rainfalls\n",
    "\n",
    "rainfall_16_df = pd.read_csv(\"rainfall_16.tsv\", sep=\"\\t\", header=None)\n",
    "rainfall_16_df.drop(rainfall_16_df.columns[0], axis=1, inplace=True)\n",
    "rainfall_16_df.columns = month_list\n"
   ]
  },
  {
   "cell_type": "code",
   "execution_count": 25,
   "metadata": {},
   "outputs": [],
   "source": [
    "# rainfall_16_df\n",
    "# rainfall_16_df.to_csv(\"rainfall_16_proserpine.csv\", index=False)"
   ]
  },
  {
   "cell_type": "code",
   "execution_count": 26,
   "metadata": {},
   "outputs": [],
   "source": [
    "rainfall_17_df = pd.read_csv(\"rainfall_17.tsv\", sep=\"\\t\", header=None)\n",
    "rainfall_17_df.drop(rainfall_17_df.columns[0], axis=1, inplace=True)\n",
    "rainfall_17_df.columns = month_list"
   ]
  },
  {
   "cell_type": "code",
   "execution_count": 27,
   "metadata": {},
   "outputs": [],
   "source": [
    "# rainfall_16_df\n",
    "# rainfall_17_df.to_csv(\"rainfall_17_proserpine.csv\", index=False)"
   ]
  },
  {
   "cell_type": "code",
   "execution_count": 28,
   "metadata": {},
   "outputs": [],
   "source": [
    "rainfall_18_df = pd.read_csv(\"rainfall_18.tsv\", sep=\"\\t\", header=None)\n",
    "rainfall_18_df.drop(rainfall_18_df.columns[0], axis=1, inplace=True)\n",
    "rainfall_18_df.columns = month_list"
   ]
  },
  {
   "cell_type": "code",
   "execution_count": 29,
   "metadata": {},
   "outputs": [],
   "source": [
    "# rainfall_16_df\n",
    "# rainfall_18_df.to_csv(\"rainfall_18_proserpine.csv\", index=False)"
   ]
  },
  {
   "cell_type": "code",
   "execution_count": 30,
   "metadata": {},
   "outputs": [],
   "source": [
    "rainfall_19_df = pd.read_csv(\"rainfall_19.tsv\", sep=\"\\t\", header=None)\n",
    "rainfall_19_df.drop(rainfall_19_df.columns[0], axis=1, inplace=True)\n",
    "rainfall_19_df.columns = month_list"
   ]
  },
  {
   "cell_type": "code",
   "execution_count": 31,
   "metadata": {},
   "outputs": [],
   "source": [
    "# rainfall_16_df\n",
    "# rainfall_19_df.to_csv(\"rainfall_19_proserpine.csv\", index=False)"
   ]
  },
  {
   "cell_type": "code",
   "execution_count": null,
   "metadata": {},
   "outputs": [],
   "source": []
  }
 ],
 "metadata": {
  "kernelspec": {
   "display_name": "Python 3",
   "language": "python",
   "name": "python3"
  },
  "language_info": {
   "codemirror_mode": {
    "name": "ipython",
    "version": 3
   },
   "file_extension": ".py",
   "mimetype": "text/x-python",
   "name": "python",
   "nbconvert_exporter": "python",
   "pygments_lexer": "ipython3",
   "version": "3.7.1"
  }
 },
 "nbformat": 4,
 "nbformat_minor": 2
}
